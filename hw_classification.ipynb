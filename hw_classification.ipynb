{
 "cells": [
  {
   "cell_type": "markdown",
   "metadata": {},
   "source": [
    "# Classification. Linear models and KNN"
   ]
  },
  {
   "cell_type": "code",
   "execution_count": 1,
   "metadata": {},
   "outputs": [],
   "source": [
    "import os\n",
    "import numpy as np\n",
    "import pandas as pd\n",
    "import seaborn as sns\n",
    "import matplotlib.pyplot as plt\n",
    "import math"
   ]
  },
  {
   "cell_type": "code",
   "execution_count": 2,
   "metadata": {},
   "outputs": [],
   "source": [
    "from sklearn.pipeline import Pipeline\n",
    "from sklearn.compose import ColumnTransformer\n",
    "from sklearn.model_selection import train_test_split, cross_validate\n",
    "from sklearn.metrics import plot_confusion_matrix, accuracy_score\n",
    "from sklearn.neighbors import KNeighborsClassifier\n",
    "from sklearn.preprocessing import StandardScaler, OneHotEncoder"
   ]
  },
  {
   "cell_type": "markdown",
   "metadata": {},
   "source": [
    "## Part 1: Implementing Logistic Regression"
   ]
  },
  {
   "cell_type": "markdown",
   "metadata": {},
   "source": [
    "In this task you need to implement Logistic Regression with l2 regularization using gradient descent algorithm."
   ]
  },
  {
   "cell_type": "markdown",
   "metadata": {},
   "source": [
    "Logistic Regression loss:\n",
    "$$ L(w) = \\dfrac{1}{N}\\sum_{i=1}^N \\log(1 + e^{-\\langle w, x_i \\rangle y_i}) + \\frac{1}{2C} \\lVert w \\rVert^2  \\to \\min_w$$\n",
    "$$\\langle w, x_i \\rangle = \\sum_{j=1}^n w_{j}x_{ij} + w_{0},$$ $$ y_{i} \\in \\{-1, 1\\}$$ where $n$ is the number of features and $N$ is the number of samples."
   ]
  },
  {
   "cell_type": "markdown",
   "metadata": {},
   "source": [
    "Gradient descent step:\n",
    "$$w^{(t+1)} := w^{(t)} + \\dfrac{\\eta}{N}\\sum_{i=1}^N y_ix_i \\Big(1 - \\dfrac{1}{1 + exp(-\\langle w^{(t)}, x_i \\rangle y_i)}\\Big) - \\eta \\frac{1}{C} w,$$\n",
    "where $\\eta$ is the learning rate."
   ]
  },
  {
   "cell_type": "markdown",
   "metadata": {},
   "source": [
    "**(2 points)** Implement the algorithm and use it to classify the digits (https://scikit-learn.org/stable/modules/generated/sklearn.datasets.load_digits.html) into \"even\" and \"odd\" categories. \"Even\" and \"Odd\" classes  should correspond to {-1, 1} labels."
   ]
  },
  {
   "cell_type": "markdown",
   "metadata": {},
   "source": [
    "Stopping criteria: either the number of iterations exceeds *max_iter* or $||w^{(t+1)} - w^{(t)}||_2 < tol$."
   ]
  },
  {
   "cell_type": "code",
   "execution_count": 3,
   "metadata": {},
   "outputs": [],
   "source": [
    "from sklearn.exceptions import NotFittedError"
   ]
  },
  {
   "cell_type": "code",
   "execution_count": 89,
   "metadata": {},
   "outputs": [],
   "source": [
    "class CustomLogisticRegression:\n",
    "    _estimator_type = \"classifier\"\n",
    "    \n",
    "    def __init__(self, eta=0.001, max_iter=10000, C=1.0, tol=1e-7, random_state=42, zero_init=False):\n",
    "        \"\"\"Logistic Regression classifier.\n",
    "        \n",
    "        Args:\n",
    "            eta: float, default=0.001\n",
    "                Learning rate.\n",
    "            max_iter: int, default=1000\n",
    "                Maximum number of iterations taken for the solvers to converge.\n",
    "            C: float, default=1.0\n",
    "                Inverse of regularization strength; must be a positive float.\n",
    "                Smaller values specify stronger regularization.\n",
    "            tol: float, default=1e-5\n",
    "                Tolerance for stopping criteria.\n",
    "            random_state: int, default=42\n",
    "                Random state.\n",
    "            zero_init: bool, default=False\n",
    "                Zero weight initialization.\n",
    "        \"\"\"\n",
    "        self.eta = eta\n",
    "        self.max_iter = max_iter\n",
    "        self.C = C\n",
    "        self.tol = tol\n",
    "        self.random_state = np.random.RandomState(seed=random_state)\n",
    "        self.zero_init = zero_init\n",
    "        self.get_loss_history=[]\n",
    "        self.convergence=0\n",
    "    def get_sigmoid(self, X, weights):\n",
    "        \"\"\"Compute the sigmoid value.\"\"\"   \n",
    "        pol=X@weights\n",
    "        return 1/(1+np.exp(-pol)) \n",
    "    \n",
    "    def get_loss(self, x, weights, y):\n",
    "        \"\"\"Calculate the loss.\"\"\"\n",
    "        \n",
    "        return  np.array([np.log(1+np.exp(-weights@x[zal]*y[zal])) for zal in range(x.shape[0])]).mean()+np.linalg.norm(weights)/2/self.C\n",
    "        #return (np.log(1+np.exp(-(self.weights_@x.T@y))))/x.shape[0]+1/(self.C*2)*np.square(sum(np.abs(self.weights_)))\n",
    "     \n",
    "    def fit(self, X, y):\n",
    "        \"\"\"Fit the model.\n",
    "        \n",
    "        Args:\n",
    "            X: numpy array of shape (n_samples, n_features)\n",
    "            y: numpy array of shape (n_samples,)\n",
    "                Target vector.        \n",
    "        \"\"\"\n",
    "        X_ext = np.hstack([np.ones((X.shape[0], 1)), X]) # a constant feature is included to handle intercept\n",
    "        num_features = X_ext.shape[1]\n",
    "        if self.zero_init:\n",
    "            self.weights_ = np.zeros(num_features) \n",
    "        else:\n",
    "            weight_threshold = 1.0 / (2 * num_features)\n",
    "            self.weights_ = self.random_state.uniform(low=-weight_threshold,\n",
    "                                                      high=weight_threshold, size=num_features) # random weight initialization\n",
    "          \n",
    "        for i in range(self.max_iter):\n",
    "            self.get_loss_history.append(self.get_loss(X_ext, self.weights_, y))\n",
    "            for zal in range(X_ext.shape[0]):\n",
    "                bum=y[zal]*X_ext[zal]*(1-1/(1+np.exp(-self.weights_@X_ext[zal]*y[zal])))\n",
    "                if(zal==0):\n",
    "                    summa=bum\n",
    "                else:\n",
    "                    summa=summa+bum\n",
    "            summa/X_ext.shape[0]+1/self.C*self.weights_\n",
    "            delta = -summa/X_ext.shape[0]+1/self.C*self.weights_\n",
    "            \n",
    "            #delta = -y@X_ext*(1-1/(1+np.exp(-self.weights_@X_ext.T@y)))/X_ext.shape[0]+1/self.C*self.weights_\n",
    "            self.weights_ -= self.eta * delta\n",
    "            prov=np.sqrt(sum(np.square(np.abs(self.eta * delta))))\n",
    "            self.convergence=self.convergence+1\n",
    "            if prov<self.tol:\n",
    "                break\n",
    "     \n",
    "    def predict_proba(self, X):\n",
    "        \"\"\"Predict positive class probabilities.\n",
    "        \n",
    "        Args:\n",
    "            X: numpy array of shape (n_samples, n_features)\n",
    "        Returns:\n",
    "            y: numpy array of shape (n_samples,)\n",
    "                Vector containing positive class probabilities.\n",
    "        \"\"\"\n",
    "        X_ext = np.hstack([np.ones((X.shape[0], 1)), X])\n",
    "        if hasattr(self, 'weights_'):\n",
    "            return self.get_sigmoid(X_ext, self.weights_)\n",
    "        else: \n",
    "            raise NotFittedError(\"CustomLogisticRegression instance is not fitted yet\")\n",
    "    \n",
    "    def predict(self, X):\n",
    "        \"\"\"Predict classes.\n",
    "        \n",
    "        Args:\n",
    "            X: numpy array of shape (n_samples, n_features)\n",
    "        Returns:\n",
    "            y: numpy array of shape (n_samples,)\n",
    "                Vector containing predicted class labels.\n",
    "        \"\"\"\n",
    "        # <your code>\n",
    "        uo=self.predict_proba(X)\n",
    "        X_ext = np.hstack([np.ones((X.shape[0], 1)), X])\n",
    "        pred_value = np.where(uo >= .5,1,-1)\n",
    "        return np.squeeze(pred_value)"
   ]
  },
  {
   "cell_type": "code",
   "execution_count": null,
   "metadata": {},
   "outputs": [],
   "source": []
  },
  {
   "cell_type": "code",
   "execution_count": 90,
   "metadata": {},
   "outputs": [],
   "source": [
    "from sklearn import datasets\n",
    "from sklearn import metrics"
   ]
  },
  {
   "cell_type": "code",
   "execution_count": 91,
   "metadata": {},
   "outputs": [
    {
     "data": {
      "image/png": "[encoded data removed]",
      "text/plain": [
       "<Figure size 720x360 with 21 Axes>"
      ]
     },
     "metadata": {
      "needs_background": "light"
     },
     "output_type": "display_data"
    }
   ],
   "source": [
    "X, y = datasets.load_digits(n_class=10, return_X_y=True)\n",
    "\n",
    "_, axes = plt.subplots(nrows=3, ncols=7, figsize=(10, 5))\n",
    "for ax, image, label in zip(axes.flatten(), X, y):\n",
    "    ax.set_axis_off()\n",
    "    ax.imshow(image.reshape((8, 8)), cmap=plt.cm.gray_r if label % 2 else plt.cm.afmhot_r)\n",
    "    ax.set_title(label)\n",
    "\n",
    "X_train, X_test, y_train, y_test = train_test_split(X, y, test_size=0.2, shuffle=True, random_state=42)\n",
    "#y_train = \"<your code>\"\n",
    "#y_test = \"<your code>\"\n",
    "#X_train=StandardScaler().fit_transform(X_train)\n",
    "#X_test=StandardScaler().fit_transform(X_test)\n",
    "y_train = (y_train % 2) * 2 - 1\n",
    "y_test = (y_test % 2) * 2 - 1"
   ]
  },
  {
   "cell_type": "code",
   "execution_count": 92,
   "metadata": {},
   "outputs": [],
   "source": [
    "assert (np.unique(y_train) == [-1, 1]).all()\n",
    "assert (np.unique(y_test) == [-1, 1]).all()"
   ]
  },
  {
   "cell_type": "code",
   "execution_count": 93,
   "metadata": {},
   "outputs": [],
   "source": [
    "def fit_evaluate(clf, X_train, y_train, X_test, y_test):\n",
    "    clf.fit(X_train, y_train)\n",
    "    disp = metrics.plot_confusion_matrix(clf, X_test, y_test, normalize='true')\n",
    "    disp.figure_.suptitle(\"Confusion Matrix\")\n",
    "    plt.show()\n",
    "    \n",
    "    return metrics.accuracy_score(y_pred=clf.predict(X_train), y_true=y_train), \\\n",
    "           metrics.accuracy_score(y_pred=clf.predict(X_test), y_true=y_test)"
   ]
  },
  {
   "cell_type": "code",
   "execution_count": 94,
   "metadata": {},
   "outputs": [],
   "source": [
    "lr_clf = CustomLogisticRegression(max_iter=1, zero_init=True)"
   ]
  },
  {
   "cell_type": "code",
   "execution_count": 95,
   "metadata": {},
   "outputs": [],
   "source": [
    "assert np.allclose(lr_clf.get_sigmoid(np.array([[0.5, 0, 1.0], [0.3, 1.3, 1.0]]), np.array([0.5, -0.5, 0.1])),\n",
    "                   np.array([0.58662, 0.40131]))"
   ]
  },
  {
   "cell_type": "code",
   "execution_count": 96,
   "metadata": {
    "scrolled": false
   },
   "outputs": [],
   "source": [
    "lr_clf.fit(X_train, y_train)"
   ]
  },
  {
   "cell_type": "code",
   "execution_count": 97,
   "metadata": {},
   "outputs": [],
   "source": [
    "assert np.allclose(lr_clf.weights_, np.array([ 3.1000e-06,  0.0000e+00,  4.1800e-05,  5.4770e-04,  2.2130e-04,\n",
    "        4.8750e-04,  1.3577e-03,  5.9780e-04,  5.6400e-05, -7.0000e-07,\n",
    "        1.6910e-04,  2.5190e-04, -4.3700e-04,  3.6190e-04,  1.0049e-03,\n",
    "        4.2280e-04,  2.5700e-05,  3.0000e-07, -1.1500e-05, -7.2440e-04,\n",
    "       -2.6200e-04,  8.7540e-04,  4.1540e-04, -8.4200e-05, -5.2000e-06,\n",
    "        0.0000e+00, -2.2160e-04, -5.7130e-04,  9.8570e-04,  1.3507e-03,\n",
    "        5.0210e-04, -1.7050e-04, -1.0000e-06,  0.0000e+00, -6.7810e-04,\n",
    "       -1.0515e-03, -4.4500e-05,  3.7160e-04,  4.2100e-04, -8.1800e-05,\n",
    "        0.0000e+00, -5.2000e-06, -5.3410e-04, -2.0393e-03, -8.4310e-04,\n",
    "        1.0400e-04, -1.2390e-04, -1.7880e-04, -1.3200e-05, -4.5000e-06,\n",
    "       -9.4300e-05, -1.1127e-03, -5.0900e-04, -2.1850e-04, -5.6050e-04,\n",
    "       -3.9560e-04, -1.7700e-05, -3.0000e-07,  2.6800e-05,  6.3920e-04,\n",
    "        1.8090e-04, -7.3660e-04, -5.3930e-04, -3.7060e-04, -2.8200e-05]), atol=1e-5)"
   ]
  },
  {
   "cell_type": "code",
   "execution_count": 98,
   "metadata": {},
   "outputs": [],
   "source": [
    "model = CustomLogisticRegression()"
   ]
  },
  {
   "cell_type": "code",
   "execution_count": 99,
   "metadata": {
    "scrolled": false
   },
   "outputs": [
    {
     "data": {
      "image/png": "[encoded data removed]",
      "text/plain": [
       "<Figure size 432x288 with 2 Axes>"
      ]
     },
     "metadata": {
      "needs_background": "light"
     },
     "output_type": "display_data"
    }
   ],
   "source": [
    "train_acc, test_acc = fit_evaluate(model, X_train, y_train, X_test, y_test)"
   ]
  },
  {
   "cell_type": "code",
   "execution_count": 100,
   "metadata": {},
   "outputs": [
    {
     "data": {
      "text/plain": [
       "(0.9157967988865693, 0.9444444444444444)"
      ]
     },
     "execution_count": 100,
     "metadata": {},
     "output_type": "execute_result"
    }
   ],
   "source": [
    "train_acc, test_acc"
   ]
  },
  {
   "cell_type": "code",
   "execution_count": 101,
   "metadata": {},
   "outputs": [],
   "source": [
    "assert min(train_acc, test_acc) > 0.9"
   ]
  },
  {
   "cell_type": "code",
   "execution_count": 102,
   "metadata": {
    "scrolled": true
   },
   "outputs": [
    {
     "data": {
      "text/plain": [
       "[0.7789536585311577,\n",
       " 0.7509551366536357,\n",
       " 0.7273063979770862,\n",
       " 0.705970032144788,\n",
       " 0.6865637805252071,\n",
       " 0.6688905081137969,\n",
       " 0.6527760776936427,\n",
       " 0.6380576235426861,\n",
       " 0.6245860114039503,\n",
       " 0.6122274594200802,\n",
       " 0.6008634633644463,\n",
       " 0.5903897082786995,\n",
       " 0.5807145666943881,\n",
       " 0.571757535054425,\n",
       " 0.5634477747869965,\n",
       " 0.5557228183969894,\n",
       " 0.5485274489839501,\n",
       " 0.5418127398388307,\n",
       " 0.5355352338667683,\n",
       " 0.529656242202387,\n",
       " 0.5241412434557396,\n",
       " 0.5189593677283293,\n",
       " 0.5140829521372123,\n",
       " 0.5094871568403038,\n",
       " 0.5051496324313904,\n",
       " 0.5010502311068731,\n",
       " 0.4971707552549326,\n",
       " 0.49349473813661177,\n",
       " 0.49000725216370267,\n",
       " 0.48669474096745274,\n",
       " 0.4835448720240306,\n",
       " 0.4805464070800256,\n",
       " 0.47768908802162213,\n",
       " 0.4749635361683433,\n",
       " 0.47236116325740907,\n",
       " 0.46987409262659496,\n",
       " 0.4674950893091658,\n",
       " 0.46521749792980516,\n",
       " 0.4630351874402632,\n",
       " 0.46094250186168095,\n",
       " 0.4589342163105028,\n",
       " 0.4570054976793439,\n",
       " 0.45515186942543856,\n",
       " 0.4533691799893174,\n",
       " 0.45165357442678483,\n",
       " 0.45000146888950104,\n",
       " 0.4484095276346672,\n",
       " 0.44687464228350443,\n",
       " 0.44539391308222315,\n",
       " 0.44396463194875063,\n",
       " 0.4425842671142245,\n",
       " 0.44125044919069917,\n",
       " 0.4399609585161033,\n",
       " 0.4387137136446152,\n",
       " 0.4375067608656157,\n",
       " 0.4363382646475249,\n",
       " 0.4352064989143732,\n",
       " 0.43410983907309647,\n",
       " 0.4330467547184841,\n",
       " 0.4320158029505773,\n",
       " 0.4310156222462662,\n",
       " 0.43004492683297724,\n",
       " 0.42910250151777524,\n",
       " 0.428187196930028,\n",
       " 0.4272979251400477,\n",
       " 0.4264336556199263,\n",
       " 0.4255934115161555,\n",
       " 0.4247762662066342,\n",
       " 0.42398134011734323,\n",
       " 0.42320779777636686,\n",
       " 0.4224548450850755,\n",
       " 0.4217217267882045,\n",
       " 0.4210077241262743,\n",
       " 0.4203121526553395,\n",
       " 0.41963436022043493,\n",
       " 0.41897372507032715,\n",
       " 0.41832965410229983,\n",
       " 0.41770158122670475,\n",
       " 0.417088965841921,\n",
       " 0.4164912914111817,\n",
       " 0.4159080641334685,\n",
       " 0.4153388117013446,\n",
       " 0.41478308213920123,\n",
       " 0.4142404427159436,\n",
       " 0.4137104789266398,\n",
       " 0.4131927935381077,\n",
       " 0.4126870056938283,\n",
       " 0.4121927500739449,\n",
       " 0.411709676106451,\n",
       " 0.411237447225977,\n",
       " 0.410775740176872,\n",
       " 0.4103242443575316,\n",
       " 0.40988266120316214,\n",
       " 0.4094507036043845,\n",
       " 0.4090280953592802,\n",
       " 0.4086145706566619,\n",
       " 0.40820987358851657,\n",
       " 0.4078137576897217,\n",
       " 0.4074259855032741,\n",
       " 0.40704632816939873,\n",
       " 0.40667456503702465,\n",
       " 0.40631048329621977,\n",
       " 0.40595387763027957,\n",
       " 0.4056045498862557,\n",
       " 0.4052623087627937,\n",
       " 0.4049269695142284,\n",
       " 0.4045983536699591,\n",
       " 0.40427628876819033,\n",
       " 0.4039606081031874,\n",
       " 0.40365115048525335,\n",
       " 0.40334776001268535,\n",
       " 0.40305028585501795,\n",
       " 0.40275858204690707,\n",
       " 0.40247250729204825,\n",
       " 0.4021919247765634,\n",
       " 0.40191670199132656,\n",
       " 0.401646710562731,\n",
       " 0.4013818260914337,\n",
       " 0.40112192799864,\n",
       " 0.40086689937951986,\n",
       " 0.4006166268633713,\n",
       " 0.4003710004801707,\n",
       " 0.4001299135331709,\n",
       " 0.3998932624772295,\n",
       " 0.3996609468025669,\n",
       " 0.39943286892367297,\n",
       " 0.39920893407309777,\n",
       " 0.3989890501998756,\n",
       " 0.39877312787234864,\n",
       " 0.39856108018516767,\n",
       " 0.3983528226702607,\n",
       " 0.39814827321157387,\n",
       " 0.39794735196339737,\n",
       " 0.3977499812721008,\n",
       " 0.3975560856011145,\n",
       " 0.3973655914589955,\n",
       " 0.3971784273304367,\n",
       " 0.39699452361007215,\n",
       " 0.3968138125389528,\n",
       " 0.39663622814356153,\n",
       " 0.3964617061772534,\n",
       " 0.39629018406400673,\n",
       " 0.3961216008443783,\n",
       " 0.3959558971235637,\n",
       " 0.3957930150214651,\n",
       " 0.3956328981246774,\n",
       " 0.3954754914403068,\n",
       " 0.3953207413515385,\n",
       " 0.3951685955748785,\n",
       " 0.3950190031189941,\n",
       " 0.3948719142450844,\n",
       " 0.3947272804287134,\n",
       " 0.39458505432304375,\n",
       " 0.39444518972341025,\n",
       " 0.39430764153317643,\n",
       " 0.39417236573081993,\n",
       " 0.3940393193381948,\n",
       " 0.3939084603899218,\n",
       " 0.3937797479038596,\n",
       " 0.3936531418526126,\n",
       " 0.3935286031360319,\n",
       " 0.39340609355467065,\n",
       " 0.3932855757841532,\n",
       " 0.3931670133504225,\n",
       " 0.3930503706058296,\n",
       " 0.39293561270603306,\n",
       " 0.3928227055876748,\n",
       " 0.39271161594680243,\n",
       " 0.39260231121800915,\n",
       " 0.3924947595542626,\n",
       " 0.3923889298073969,\n",
       " 0.39228479150924145,\n",
       " 0.3921823148533625,\n",
       " 0.39208147067739496,\n",
       " 0.3919822304459406,\n",
       " 0.3918845662340127,\n",
       " 0.39178845071100604,\n",
       " 0.3916938571251732,\n",
       " 0.391600759288587,\n",
       " 0.39150913156257455,\n",
       " 0.3914189488436006,\n",
       " 0.39133018654958923,\n",
       " 0.3912428206066644,\n",
       " 0.39115682743629454,\n",
       " 0.39107218394282983,\n",
       " 0.39098886750141376,\n",
       " 0.3909068559462589,\n",
       " 0.39082612755927343,\n",
       " 0.39074666105902467,\n",
       " 0.3906684355900304,\n",
       " 0.3905914307123639,\n",
       " 0.39051562639156395,\n",
       " 0.39044100298883844,\n",
       " 0.39036754125155193,\n",
       " 0.39029522230398656,\n",
       " 0.3902240276383687,\n",
       " 0.3901539391061511,\n",
       " 0.39008493890954277,\n",
       " 0.3900170095932773,\n",
       " 0.3899501340366134,\n",
       " 0.3898842954455587,\n",
       " 0.3898194773453092,\n",
       " 0.3897556635728995,\n",
       " 0.3896928382700538,\n",
       " 0.38963098587623446,\n",
       " 0.3895700911218787,\n",
       " 0.38951013902182013,\n",
       " 0.3894511148688875,\n",
       " 0.3893930042276755,\n",
       " 0.3893357929284824,\n",
       " 0.3892794670614094,\n",
       " 0.38922401297061604,\n",
       " 0.3891694172487271,\n",
       " 0.3891156667313876,\n",
       " 0.3890627484919579,\n",
       " 0.38901064983634936,\n",
       " 0.3889593582979921,\n",
       " 0.38890886163293337,\n",
       " 0.388859147815061,\n",
       " 0.38881020503144975,\n",
       " 0.3887620216778258,\n",
       " 0.38871458635414563,\n",
       " 0.38866788786028716,\n",
       " 0.3886219151918484,\n",
       " 0.3885766575360519,\n",
       " 0.3885321042677499,\n",
       " 0.3884882449455299,\n",
       " 0.38844506930791534,\n",
       " 0.3884025672696598,\n",
       " 0.3883607289181325,\n",
       " 0.38831954450979067,\n",
       " 0.38827900446673824,\n",
       " 0.3882390993733681,\n",
       " 0.388199819973084,\n",
       " 0.3881611571651018,\n",
       " 0.3881231020013265,\n",
       " 0.38808564568330406,\n",
       " 0.3880487795592448,\n",
       " 0.38801249512111713,\n",
       " 0.38797678400180946,\n",
       " 0.3879416379723586,\n",
       " 0.38790704893924227,\n",
       " 0.38787300894173493,\n",
       " 0.3878395101493243,\n",
       " 0.3878065448591872,\n",
       " 0.3877741054937238,\n",
       " 0.38774218459814735,\n",
       " 0.38771077483812927,\n",
       " 0.38767986899749773,\n",
       " 0.3876494599759872,\n",
       " 0.38761954078703964,\n",
       " 0.3875901045556544,\n",
       " 0.387561144516286,\n",
       " 0.38753265401078874,\n",
       " 0.38750462648640716,\n",
       " 0.38747705549380995,\n",
       " 0.38744993468516786,\n",
       " 0.3874232578122733,\n",
       " 0.3873970187247011,\n",
       " 0.3873712113680092,\n",
       " 0.38734582978197774,\n",
       " 0.3873208680988874,\n",
       " 0.3872963205418336,\n",
       " 0.387272181423077,\n",
       " 0.3872484451424295,\n",
       " 0.38722510618567485,\n",
       " 0.38720215912302164,\n",
       " 0.38717959860758977,\n",
       " 0.387157419373929,\n",
       " 0.38713561623656784,\n",
       " 0.3871141840885929,\n",
       " 0.3870931179002584,\n",
       " 0.3870724127176238,\n",
       " 0.3870520636612203,\n",
       " 0.3870320659247437,\n",
       " 0.38701241477377574,\n",
       " 0.3869931055445301,\n",
       " 0.38697413364262495,\n",
       " 0.3869554945418798,\n",
       " 0.38693718378313713,\n",
       " 0.3869191969731079,\n",
       " 0.38690152978324,\n",
       " 0.3868841779486096,\n",
       " 0.38686713726683425,\n",
       " 0.3868504035970085,\n",
       " 0.38683397285865984,\n",
       " 0.38681784103072564,\n",
       " 0.3868020041505507,\n",
       " 0.3867864583129036,\n",
       " 0.3867711996690131,\n",
       " 0.38675622442562313,\n",
       " 0.3867415288440663,\n",
       " 0.38672710923935527,\n",
       " 0.38671296197929184,\n",
       " 0.38669908348359305,\n",
       " 0.3866854702230347,\n",
       " 0.3866721187186101,\n",
       " 0.38665902554070664,\n",
       " 0.38664618730829636,\n",
       " 0.3866336006881432,\n",
       " 0.38662126239402417,\n",
       " 0.3866091691859665,\n",
       " 0.3865973178694983,\n",
       " 0.38658570529491304,\n",
       " 0.38657432835654915,\n",
       " 0.38656318399208145,\n",
       " 0.38655226918182706,\n",
       " 0.3865415809480634,\n",
       " 0.3865311163543593,\n",
       " 0.38652087250491823,\n",
       " 0.38651084654393364,\n",
       " 0.3865010356549562,\n",
       " 0.38649143706027267,\n",
       " 0.386482048020296,\n",
       " 0.3864728658329665,\n",
       " 0.3864638878331642,\n",
       " 0.3864551113921314,\n",
       " 0.3864465339169061,\n",
       " 0.3864381528497648,\n",
       " 0.38642996566767696,\n",
       " 0.3864219698817672,\n",
       " 0.38641416303678844,\n",
       " 0.38640654271060426,\n",
       " 0.3863991065136798,\n",
       " 0.3863918520885827,\n",
       " 0.3863847771094918,\n",
       " 0.3863778792817152,\n",
       " 0.38637115634121666,\n",
       " 0.3863646060541499,\n",
       " 0.38635822621640187,\n",
       " 0.38635201465314306,\n",
       " 0.38634596921838593,\n",
       " 0.38634008779455176,\n",
       " 0.38633436829204376,\n",
       " 0.386328808648828,\n",
       " 0.38632340683002253,\n",
       " 0.3863181608274916,\n",
       " 0.38631306865944876,\n",
       " 0.38630812837006573,\n",
       " 0.3863033380290878,\n",
       " 0.38629869573145637,\n",
       " 0.38629419959693745,\n",
       " 0.38628984776975683,\n",
       " 0.3862856384182408,\n",
       " 0.3862815697344636,\n",
       " 0.3862776399339003,\n",
       " 0.3862738472550853,\n",
       " 0.38627018995927775,\n",
       " 0.38626666633013124,\n",
       " 0.38626327467336874,\n",
       " 0.3862600133164649,\n",
       " 0.3862568806083313,\n",
       " 0.38625387491900837,\n",
       " 0.38625099463936174,\n",
       " 0.3862482381807837,\n",
       " 0.38624560397489993,\n",
       " 0.3862430904732804,\n",
       " 0.3862406961471556,\n",
       " 0.38623841948713644,\n",
       " 0.3862362590029397,\n",
       " 0.3862342132231181,\n",
       " 0.3862322806947931,\n",
       " 0.3862304599833939,\n",
       " 0.38622874967239956,\n",
       " 0.3862271483630854,\n",
       " 0.3862256546742739,\n",
       " 0.3862242672420888,\n",
       " 0.38622298471971395,\n",
       " 0.3862218057771557,\n",
       " 0.38622072910100846,\n",
       " 0.386219753394225,\n",
       " 0.3862188773758898,\n",
       " 0.3862180997809955,\n",
       " 0.3862174193602245,\n",
       " 0.3862168348797317,\n",
       " 0.38621634512093245,\n",
       " 0.3862159488802933,\n",
       " 0.38621564496912564,\n",
       " 0.38621543221338267,\n",
       " 0.3862153094534603,\n",
       " 0.3862152755439997,\n",
       " 0.3862153293536943,\n",
       " 0.3862154697650989,\n",
       " 0.38621569567444214,\n",
       " 0.38621600599144157,\n",
       " 0.3862163996391216,\n",
       " 0.3862168755536344,\n",
       " 0.38621743268408365,\n",
       " 0.38621806999235053,\n",
       " 0.3862187864529227,\n",
       " 0.38621958105272536,\n",
       " 0.38622045279095624,\n",
       " 0.38622140067892097,\n",
       " 0.38622242373987276,\n",
       " 0.3862235210088538,\n",
       " 0.3862246915325388,\n",
       " 0.38622593436908115,\n",
       " 0.3862272485879615,\n",
       " 0.3862286332698383,\n",
       " 0.3862300875064011,\n",
       " 0.3862316104002247,\n",
       " 0.3862332010646278,\n",
       " 0.3862348586235308,\n",
       " 0.38623658221131874,\n",
       " 0.3862383709727035,\n",
       " 0.3862402240625903,\n",
       " 0.3862421406459444,\n",
       " 0.38624411989766094,\n",
       " 0.3862461610024363,\n",
       " 0.3862482631546409,\n",
       " 0.38625042555819444,\n",
       " 0.38625264742644305,\n",
       " 0.3862549279820376,\n",
       " 0.386257266456814,\n",
       " 0.38625966209167595,\n",
       " 0.3862621141364778,\n",
       " 0.38626462184991106,\n",
       " 0.3862671844993908,\n",
       " 0.38626980136094496,\n",
       " 0.3862724717191044,\n",
       " 0.38627519486679485,\n",
       " 0.38627797010523046,\n",
       " 0.38628079674380905,\n",
       " 0.38628367410000786,\n",
       " 0.3862866014992825,\n",
       " 0.38628957827496546,\n",
       " 0.38629260376816754,\n",
       " 0.3862956773276797,\n",
       " 0.38629879830987685,\n",
       " 0.3863019660786228,\n",
       " 0.38630518000517655,\n",
       " 0.3863084394680997,\n",
       " 0.3863117438531656,\n",
       " 0.38631509255326946,\n",
       " 0.38631848496833976,\n",
       " 0.3863219205052507,\n",
       " 0.3863253985777366,\n",
       " 0.38632891860630614,\n",
       " 0.38633248001815934,\n",
       " 0.3863360822471048,\n",
       " 0.38633972473347783,\n",
       " 0.38634340692406044,\n",
       " 0.38634712827200224,\n",
       " 0.38635088823674174,\n",
       " 0.3863546862839301,\n",
       " 0.3863585218853542,\n",
       " 0.38636239451886206,\n",
       " 0.3863663036682892,\n",
       " 0.38637024882338505,\n",
       " 0.3863742294797413,\n",
       " 0.38637824513872115,\n",
       " 0.3863822953073886,\n",
       " 0.38638637949844007,\n",
       " 0.38639049723013563,\n",
       " 0.3863946480262326,\n",
       " 0.3863988314159178,\n",
       " 0.3864030469337437,\n",
       " 0.3864072941195631,\n",
       " 0.38641157251846503,\n",
       " 0.3864158816807125,\n",
       " 0.38642022116168045,\n",
       " 0.38642459052179423,\n",
       " 0.3864289893264695,\n",
       " 0.38643341714605234,\n",
       " 0.386437873555761,\n",
       " 0.38644235813562733,\n",
       " 0.38644687047043985,\n",
       " 0.3864514101496871,\n",
       " 0.386455976767502,\n",
       " 0.3864605699226069,\n",
       " 0.38646518921825906,\n",
       " 0.3864698342621974,\n",
       " 0.38647450466658917,\n",
       " 0.38647920004797814,\n",
       " 0.3864839200272331,\n",
       " 0.38648866422949657,\n",
       " 0.38649343228413513,\n",
       " 0.3864982238246899,\n",
       " 0.38650303848882706,\n",
       " 0.38650787591829017,\n",
       " 0.3865127357588526,\n",
       " 0.3865176176602698,\n",
       " 0.3865225212762338,\n",
       " 0.3865274462643268,\n",
       " 0.38653239228597597,\n",
       " 0.3865373590064093,\n",
       " 0.3865423460946108,\n",
       " 0.38654735322327766,\n",
       " 0.3865523800687768,\n",
       " 0.3865574263111028,\n",
       " 0.3865624916338358,\n",
       " 0.3865675757241003,\n",
       " 0.3865726782725243,\n",
       " 0.386577798973199,\n",
       " 0.38658293752363904,\n",
       " 0.3865880936247431,\n",
       " 0.38659326698075547,\n",
       " 0.38659845729922726,\n",
       " 0.38660366429097887,\n",
       " 0.38660888767006263,\n",
       " 0.3866141271537259,\n",
       " 0.3866193824623745,\n",
       " 0.3866246533195371,\n",
       " 0.3866299394518295,\n",
       " 0.3866352405889194,\n",
       " 0.38664055646349194,\n",
       " 0.3866458868112158,\n",
       " 0.3866512313707088,\n",
       " 0.38665658988350504,\n",
       " 0.3866619620940216,\n",
       " 0.3866673477495265,\n",
       " 0.386672746600106,\n",
       " 0.3866781583986332,\n",
       " 0.38668358290073657,\n",
       " 0.38668901986476917,\n",
       " 0.3866944690517777,\n",
       " 0.38669993022547255,\n",
       " 0.38670540315219815,\n",
       " 0.386710887600903,\n",
       " 0.386716383343111,\n",
       " 0.3867218901528924,\n",
       " 0.3867274078068354,\n",
       " 0.3867329360840186,\n",
       " 0.38673847476598244,\n",
       " 0.38674402363670257,\n",
       " 0.3867495824825621,\n",
       " 0.38675515109232556,\n",
       " 0.386760729257112,\n",
       " 0.38676631677036916,\n",
       " 0.38677191342784767,\n",
       " 0.3867775190275753,\n",
       " 0.38678313336983217,\n",
       " 0.3867887562571257,\n",
       " 0.3867943874941663,\n",
       " 0.38680002688784265,\n",
       " 0.38680567424719814,\n",
       " 0.38681132938340695,\n",
       " 0.38681699210975073,\n",
       " 0.38682266224159567,\n",
       " 0.386828339596369,\n",
       " 0.3868340239935373,\n",
       " 0.3868397152545834,\n",
       " 0.38684541320298493,\n",
       " 0.3868511176641921,\n",
       " 0.38685682846560643,\n",
       " 0.3868625454365593,\n",
       " 0.386868268408291,\n",
       " 0.3868739972139301,\n",
       " 0.38687973168847256,\n",
       " 0.38688547166876175,\n",
       " 0.3868912169934683,\n",
       " 0.3868969675030703,\n",
       " 0.3869027230398334,\n",
       " 0.38690848344779216,\n",
       " 0.38691424857273016,\n",
       " 0.38692001826216155,\n",
       " 0.386925792365312,\n",
       " 0.3869315707331007,\n",
       " 0.3869373532181217,\n",
       " 0.3869431396746261,\n",
       " 0.38694892995850394,\n",
       " 0.3869547239272668,\n",
       " 0.38696052144003035,\n",
       " 0.38696632235749706,\n",
       " 0.38697212654193913,\n",
       " 0.38697793385718177,\n",
       " 0.3869837441685864,\n",
       " 0.38698955734303436,\n",
       " 0.38699537324891065,\n",
       " 0.3870011917560876,\n",
       " 0.3870070127359093,\n",
       " 0.38701283606117587,\n",
       " 0.38701866160612747,\n",
       " 0.3870244892464296,\n",
       " 0.3870303188591575,\n",
       " 0.3870361503227812,\n",
       " 0.38704198351715086,\n",
       " 0.3870478183234819,\n",
       " 0.3870536546243407,\n",
       " 0.38705949230362985,\n",
       " 0.3870653312465746,\n",
       " 0.38707117133970836,\n",
       " 0.3870770124708591,\n",
       " 0.3870828545291354,\n",
       " 0.38708869740491303,\n",
       " 0.38709454098982177,\n",
       " 0.38710038517673184,\n",
       " 0.3871062298597411,\n",
       " 0.3871120749341616,\n",
       " 0.3871179202965075,\n",
       " 0.3871237658444817,\n",
       " 0.387129611476964,\n",
       " 0.38713545709399816,\n",
       " 0.38714130259677976,\n",
       " 0.3871471478876445,\n",
       " 0.38715299287005556,\n",
       " 0.3871588374485926,\n",
       " 0.3871646815289391,\n",
       " 0.38717052501787175,\n",
       " 0.38717636782324827,\n",
       " 0.38718220985399626,\n",
       " 0.38718805102010223,\n",
       " 0.38719389123260045,\n",
       " 0.3871997304035619,\n",
       " 0.38720556844608334,\n",
       " 0.3872114052742769,\n",
       " 0.3872172408032593,\n",
       " 0.3872230749491413,\n",
       " 0.3872289076290176,\n",
       " 0.3872347387609563,\n",
       " 0.38724056826398895,\n",
       " 0.3872463960581005,\n",
       " 0.38725222206421916,\n",
       " 0.3872580462042072,\n",
       " 0.38726386840085036,\n",
       " 0.38726968857784905,\n",
       " 0.3872755066598085,\n",
       " 0.38728132257222925,\n",
       " 0.38728713624149813,\n",
       " 0.38729294759487914,\n",
       " 0.38729875656050394,\n",
       " 0.38730456306736327,\n",
       " 0.38731036704529787,\n",
       " 0.3873161684249898,\n",
       " 0.3873219671379535,\n",
       " 0.38732776311652756,\n",
       " 0.3873335562938659,\n",
       " 0.3873393466039294,\n",
       " 0.3873451339814778,\n",
       " 0.38735091836206115,\n",
       " 0.3873566996820119,\n",
       " 0.3873624778784366,\n",
       " 0.38736825288920806,\n",
       " 0.3873740246529576,\n",
       " 0.38737979310906695,\n",
       " 0.38738555819766074,\n",
       " 0.3873913198595986,\n",
       " 0.38739707803646817,\n",
       " 0.3874028326705768,\n",
       " 0.3874085837049448,\n",
       " 0.3874143310832979,\n",
       " 0.3874200747500601,\n",
       " 0.387425814650346,\n",
       " 0.38743155072995455,\n",
       " 0.3874372829353614,\n",
       " 0.3874430112137122,\n",
       " 0.3874487355128157,\n",
       " 0.3874544557811369,\n",
       " 0.38746017196779037,\n",
       " 0.38746588402253357,\n",
       " 0.3874715918957602,\n",
       " 0.3874772955384942,\n",
       " 0.38748299490238225,\n",
       " 0.38748868993968844,\n",
       " 0.38749438060328745,\n",
       " 0.3875000668466584,\n",
       " 0.38750574862387854,\n",
       " 0.3875114258896173,\n",
       " 0.3875170985991304,\n",
       " 0.3875227667082535,\n",
       " 0.3875284301733961,\n",
       " 0.38753408895153685,\n",
       " 0.38753974300021604,\n",
       " 0.38754539227753115,\n",
       " 0.38755103674213076,\n",
       " 0.3875566763532088,\n",
       " 0.3875623110704991,\n",
       " 0.38756794085427,\n",
       " 0.38757356566531853,\n",
       " 0.3875791854649655,\n",
       " 0.3875848002150498,\n",
       " 0.3875904098779234,\n",
       " 0.38759601441644587,\n",
       " 0.38760161379397917,\n",
       " 0.38760720797438286,\n",
       " 0.3876127969220089,\n",
       " 0.38761838060169623,\n",
       " 0.38762395897876656,\n",
       " 0.3876295320190188,\n",
       " 0.3876350996887244,\n",
       " 0.3876406619546228,\n",
       " 0.38764621878391636,\n",
       " 0.3876517701442657,\n",
       " 0.38765731600378506,\n",
       " 0.3876628563310378,\n",
       " 0.3876683910950315,\n",
       " 0.38767392026521397,\n",
       " 0.3876794438114682,\n",
       " 0.3876849617041083,\n",
       " 0.3876904739138751,\n",
       " 0.38769598041193154,\n",
       " 0.3877014811698586,\n",
       " 0.3877069761596511,\n",
       " 0.38771246535371323,\n",
       " 0.38771794872485454,\n",
       " 0.3877234262462861,\n",
       " 0.3877288978916157,\n",
       " 0.38773436363484437,\n",
       " 0.3877398234503624,\n",
       " 0.38774527731294517,\n",
       " 0.3877507251977492,\n",
       " 0.3877561670803083,\n",
       " 0.38776160293652995,\n",
       " 0.3877670327426912,\n",
       " 0.3877724564754351,\n",
       " 0.3877778741117668,\n",
       " 0.38778328562905,\n",
       " 0.3877886910050035,\n",
       " 0.38779409021769695,\n",
       " 0.38779948324554797,\n",
       " 0.3878048700673181,\n",
       " 0.3878102506621097,\n",
       " 0.3878156250093623,\n",
       " 0.38782099308884876,\n",
       " 0.38782635488067263,\n",
       " 0.3878317103652643,\n",
       " 0.38783705952337766,\n",
       " 0.38784240233608713,\n",
       " 0.38784773878478396,\n",
       " 0.3878530688511732,\n",
       " 0.3878583925172706,\n",
       " 0.3878637097653993,\n",
       " 0.38786902057818673,\n",
       " 0.38787432493856144,\n",
       " 0.3878796228297501,\n",
       " 0.38788491423527444,\n",
       " 0.3878901991389483,\n",
       " 0.3878954775248744,\n",
       " 0.3879007493774418,\n",
       " 0.38790601468132235,\n",
       " 0.3879112734214685,\n",
       " 0.3879165255831101,\n",
       " 0.3879217711517511,\n",
       " 0.38792701011316777,\n",
       " 0.38793224245340496,\n",
       " 0.38793746815877383,\n",
       " 0.387942687215849,\n",
       " 0.38794789961146603,\n",
       " 0.3879531053327181,\n",
       " 0.3879583043669542,\n",
       " 0.3879634967017762,\n",
       " 0.38796868232503573,\n",
       " 0.3879738612248326,\n",
       " 0.38797903338951123,\n",
       " 0.387984198807659,\n",
       " 0.3879893574681031,\n",
       " 0.3879945093599084,\n",
       " 0.38799965447237494,\n",
       " 0.3880047927950354,\n",
       " 0.3880099243176529,\n",
       " 0.38801504903021844,\n",
       " 0.3880201669229485,\n",
       " 0.38802527798628306,\n",
       " 0.3880303822108829,\n",
       " 0.38803547958762735,\n",
       " 0.38804057010761245,\n",
       " 0.38804565376214817,\n",
       " 0.3880507305427563,\n",
       " 0.38805580044116883,\n",
       " 0.3880608634493248,\n",
       " 0.388065919559369,\n",
       " 0.38807096876364927,\n",
       " 0.388076011054715,\n",
       " 0.3880810464253141,\n",
       " 0.388086074868392,\n",
       " 0.3880910963770886,\n",
       " 0.3880961109447373,\n",
       " 0.38810111856486174,\n",
       " 0.388106119231175,\n",
       " 0.38811111293757683,\n",
       " 0.38811609967815214,\n",
       " 0.38812107944716867,\n",
       " 0.3881260522390754,\n",
       " 0.3881310180485007,\n",
       " 0.3881359768702501,\n",
       " 0.38814092869930455,\n",
       " 0.388145873530819,\n",
       " 0.3881508113601198,\n",
       " 0.38815574218270377,\n",
       " 0.3881606659942356,\n",
       " 0.38816558279054647,\n",
       " 0.3881704925676326,\n",
       " 0.3881753953216527,\n",
       " 0.38818029104892715,\n",
       " 0.3881851797459356,\n",
       " 0.38819006140931556,\n",
       " 0.38819493603586086,\n",
       " 0.3881998036225197,\n",
       " 0.3882046641663933,\n",
       " 0.3882095176647341,\n",
       " 0.38821436411494403,\n",
       " 0.3882192035145733,\n",
       " 0.3882240358613185,\n",
       " 0.3882288611530211,\n",
       " 0.38823367938766595,\n",
       " 0.3882384905633798,\n",
       " 0.38824329467842955,\n",
       " 0.3882480917312212,\n",
       " 0.3882528817202977,\n",
       " 0.3882576646443383,\n",
       " 0.3882624405021561,\n",
       " 0.38826720929269765,\n",
       " 0.38827197101504074,\n",
       " 0.3882767256683932,\n",
       " 0.3882814732520917,\n",
       " 0.38828621376560024,\n",
       " 0.38829094720850854,\n",
       " 0.38829567358053096,\n",
       " 0.3883003928815051,\n",
       " 0.38830510511139027,\n",
       " 0.38830981027026656,\n",
       " 0.38831450835833314,\n",
       " 0.38831919937590714,\n",
       " 0.38832388332342216,\n",
       " 0.38832856020142725,\n",
       " 0.38833323001058573,\n",
       " 0.3883378927516736,\n",
       " 0.3883425484255783,\n",
       " 0.3883471970332979,\n",
       " 0.38835183857593947,\n",
       " 0.388356473054718,\n",
       " 0.3883611004709555,\n",
       " 0.38836572082607923,\n",
       " 0.38837033412162103,\n",
       " 0.38837494035921594,\n",
       " 0.3883795395406011,\n",
       " 0.38838413166761443,\n",
       " 0.38838871674219405,\n",
       " 0.38839329476637646,\n",
       " 0.38839786574229596,\n",
       " 0.3884024296721833,\n",
       " 0.3884069865583647,\n",
       " 0.38841153640326054,\n",
       " 0.38841607920938487,\n",
       " 0.38842061497934355,\n",
       " 0.388425143715834,\n",
       " 0.38842966542164353,\n",
       " 0.3884341800996488,\n",
       " 0.3884386877528145,\n",
       " 0.38844318838419234,\n",
       " 0.38844768199692037,\n",
       " 0.3884521685942216,\n",
       " 0.3884566481794033,\n",
       " 0.3884611207558559,\n",
       " 0.3884655863270521,\n",
       " 0.3884700448965459,\n",
       " 0.3884744964679715,\n",
       " 0.38847894104504277,\n",
       " 0.3884833786315519,\n",
       " 0.38848780923136883,\n",
       " 0.3884922328484399,\n",
       " 0.38849664948678764,\n",
       " 0.3885010591505092,\n",
       " 0.38850546184377566,\n",
       " 0.38850985757083156,\n",
       " 0.38851424633599363,\n",
       " 0.38851862814364985,\n",
       " 0.38852300299825915,\n",
       " 0.3885273709043497,\n",
       " 0.3885317318665191,\n",
       " 0.38853608588943295,\n",
       " 0.3885404329778237,\n",
       " 0.388544773136491,\n",
       " 0.3885491063702996,\n",
       " 0.3885534326841794,\n",
       " 0.3885577520831244,\n",
       " 0.38856206457219183,\n",
       " 0.38856637015650164,\n",
       " 0.3885706688412355,\n",
       " 0.3885749606316361,\n",
       " 0.3885792455330065,\n",
       " 0.38858352355070924,\n",
       " 0.3885877946901658,\n",
       " 0.3885920589568557,\n",
       " 0.388596316356316,\n",
       " 0.3886005668941401,\n",
       " 0.3886048105759777,\n",
       " 0.38860904740753355,\n",
       " 0.3886132773945672,\n",
       " 0.3886175005428919,\n",
       " 0.38862171685837416,\n",
       " 0.3886259263469331,\n",
       " 0.3886301290145397,\n",
       " 0.38863432486721605,\n",
       " 0.38863851391103504,\n",
       " 0.3886426961521192,\n",
       " 0.3886468715966406,\n",
       " 0.38865104025081965,\n",
       " 0.388655202120925,\n",
       " 0.3886593572132727,\n",
       " 0.3886635055342256,\n",
       " 0.3886676470901923,\n",
       " 0.3886717818876275,\n",
       " 0.3886759099330308,\n",
       " 0.3886800312329457,\n",
       " 0.3886841457939599,\n",
       " 0.3886882536227042,\n",
       " 0.38869235472585195,\n",
       " 0.3886964491101185,\n",
       " 0.388700536782261,\n",
       " 0.38870461774907705,\n",
       " 0.388708692017405,\n",
       " 0.38871275959412277,\n",
       " 0.3887168204861477,\n",
       " 0.3887208747004358,\n",
       " 0.38872492224398114,\n",
       " 0.3887289631238158,\n",
       " 0.3887329973470087,\n",
       " 0.3887370249206655,\n",
       " 0.38874104585192787,\n",
       " 0.3887450601479733,\n",
       " 0.38874906781601404,\n",
       " 0.3887530688632973,\n",
       " 0.38875706329710413,\n",
       " 0.38876105112474946,\n",
       " 0.38876503235358084,\n",
       " 0.38876900699097905,\n",
       " 0.3887729750443567,\n",
       " 0.3887769365211581,\n",
       " 0.388780891428859,\n",
       " 0.3887848397749657,\n",
       " 0.3887887815670149,\n",
       " 0.3887927168125732,\n",
       " 0.38879664551923654,\n",
       " 0.3888005676946298,\n",
       " 0.3888044833464065,\n",
       " 0.388808392482248,\n",
       " 0.38881229510986365,\n",
       " 0.38881619123698974,\n",
       " 0.38882008087138953,\n",
       " 0.3888239640208526,\n",
       " 0.3888278406931944,\n",
       " 0.38883171089625623,\n",
       " 0.388835574637904,\n",
       " 0.388839431926029,\n",
       " 0.3888432827685464,\n",
       " 0.38884712717339553,\n",
       " 0.3888509651485391,\n",
       " 0.3888547967019631,\n",
       " 0.3888586218416764,\n",
       " 0.38886244057570996,\n",
       " 0.3888662529121172,\n",
       " 0.38887005885897274,\n",
       " 0.3888738584243727,\n",
       " 0.3888776516164341,\n",
       " 0.3888814384432945,\n",
       " 0.3888852189131116,\n",
       " 0.388888993034063,\n",
       " 0.3888927608143457,\n",
       " 0.38889652226217586,\n",
       " 0.3889002773857884,\n",
       " 0.3889040261934368,\n",
       " 0.3889077686933925,\n",
       " 0.38891150489394466,\n",
       " 0.38891523480340007,\n",
       " 0.3889189584300826,\n",
       " 0.3889226757823326,\n",
       " 0.3889263868685072,\n",
       " 0.3889300916969797,\n",
       " 0.38893379027613884,\n",
       " 0.3889374826143892,\n",
       " 0.38894116872015055,\n",
       " 0.3889448486018573,\n",
       " 0.3889485222679586,\n",
       " 0.38895218972691803,\n",
       " 0.38895585098721286,\n",
       " 0.3889595060573342,\n",
       " 0.3889631549457866,\n",
       " 0.38896679766108766,\n",
       " 0.3889704342117678,\n",
       " 0.3889740646063699,\n",
       " 0.3889776888534493,\n",
       " 0.38898130696157296,\n",
       " 0.38898491893932,\n",
       " 0.38898852479528057,\n",
       " 0.3889921245380562,\n",
       " 0.38899571817625933,\n",
       " 0.3889993057185128,\n",
       " 0.3890028871734499,\n",
       " 0.3890064625497142,\n",
       " 0.389010031855959,\n",
       " 0.3890135951008471,\n",
       " 0.38901715229305067,\n",
       " 0.38902070344125117,\n",
       " 0.38902424855413864,\n",
       " 0.3890277876404119,\n",
       " 0.3890313207087779,\n",
       " 0.389034847767952,\n",
       " 0.38903836882665715,\n",
       " 0.3890418838936242,\n",
       " 0.3890453929775912,\n",
       " 0.38904889608730364,\n",
       " 0.3890523932315137,\n",
       " 0.3890558844189803,\n",
       " 0.3890593696584691,\n",
       " 0.38906284895875176,\n",
       " 0.3890663223286062,\n",
       " 0.3890697897768162,\n",
       " 0.38907325131217096,\n",
       " 0.3890767069434652,\n",
       " ...]"
      ]
     },
     "execution_count": 102,
     "metadata": {},
     "output_type": "execute_result"
    }
   ],
   "source": [
    "model.get_loss_history"
   ]
  },
  {
   "cell_type": "markdown",
   "metadata": {},
   "source": [
    "**(0.5 points)** Visualize the loss history."
   ]
  },
  {
   "cell_type": "code",
   "execution_count": 103,
   "metadata": {},
   "outputs": [
    {
     "data": {
      "image/png": "[encoded data removed]",
      "text/plain": [
       "<Figure size 432x288 with 1 Axes>"
      ]
     },
     "metadata": {
      "needs_background": "light"
     },
     "output_type": "display_data"
    }
   ],
   "source": [
    "## your code\n",
    "\n",
    "y = np.array(model.get_loss_history)\n",
    "x = np.arange(1, y.shape[0]+1)\n",
    "# plotting\n",
    "plt.title(\"Loss history\")\n",
    "plt.xlabel(\"Iteration\")\n",
    "plt.ylabel(\"Loss history\")\n",
    "plt.plot(x, y, color =\"red\")\n",
    "plt.show()"
   ]
  },
  {
   "cell_type": "markdown",
   "metadata": {},
   "source": [
    "**(0.5 points)** Try different learning rates and compare the results. How does the learning rate influence the convergence?"
   ]
  },
  {
   "cell_type": "code",
   "execution_count": 106,
   "metadata": {
    "scrolled": false
   },
   "outputs": [
    {
     "name": "stdout",
     "output_type": "stream",
     "text": [
      "Eta: 0.0001\n"
     ]
    },
    {
     "data": {
      "image/png": "[encoded data removed]",
      "text/plain": [
       "<Figure size 432x288 with 2 Axes>"
      ]
     },
     "metadata": {
      "needs_background": "light"
     },
     "output_type": "display_data"
    },
    {
     "name": "stdout",
     "output_type": "stream",
     "text": [
      "Metrics: 0.8789144050104384 0.9027777777777778\n",
      "Eta: 0.001\n"
     ]
    },
    {
     "data": {
      "image/png": "[encoded data removed]",
      "text/plain": [
       "<Figure size 432x288 with 2 Axes>"
      ]
     },
     "metadata": {
      "needs_background": "light"
     },
     "output_type": "display_data"
    },
    {
     "name": "stdout",
     "output_type": "stream",
     "text": [
      "Metrics: 0.9102296450939458 0.9305555555555556\n",
      "Eta: 0.01\n"
     ]
    },
    {
     "data": {
      "image/png": "[encoded data removed]",
      "text/plain": [
       "<Figure size 432x288 with 2 Axes>"
      ]
     },
     "metadata": {
      "needs_background": "light"
     },
     "output_type": "display_data"
    },
    {
     "name": "stdout",
     "output_type": "stream",
     "text": [
      "Metrics: 0.8322894919972165 0.825\n",
      "Eta: 0.1\n"
     ]
    },
    {
     "data": {
      "image/png": "[encoded data removed]",
      "text/plain": [
       "<Figure size 432x288 with 2 Axes>"
      ]
     },
     "metadata": {
      "needs_background": "light"
     },
     "output_type": "display_data"
    },
    {
     "name": "stdout",
     "output_type": "stream",
     "text": [
      "Metrics: 0.5455810716771051 0.5277777777777778\n",
      "Eta: 1.0\n"
     ]
    },
    {
     "name": "stderr",
     "output_type": "stream",
     "text": [
      "C:\\Users\\CD86~1\\AppData\\Local\\Temp/ipykernel_16288/1588220021.py:38: RuntimeWarning: overflow encountered in exp\n",
      "  return  np.array([np.log(1+np.exp(-weights@x[zal]*y[zal])) for zal in range(x.shape[0])]).mean()+np.linalg.norm(weights)/2/self.C\n",
      "C:\\Users\\CD86~1\\AppData\\Local\\Temp/ipykernel_16288/1588220021.py:61: RuntimeWarning: overflow encountered in exp\n",
      "  bum=y[zal]*X_ext[zal]*(1-1/(1+np.exp(-self.weights_@X_ext[zal]*y[zal])))\n",
      "C:\\Users\\CD86~1\\AppData\\Local\\Temp/ipykernel_16288/1588220021.py:33: RuntimeWarning: overflow encountered in exp\n",
      "  return 1/(1+np.exp(-pol))\n"
     ]
    },
    {
     "data": {
      "image/png": "[encoded data removed]",
      "text/plain": [
       "<Figure size 432x288 with 2 Axes>"
      ]
     },
     "metadata": {
      "needs_background": "light"
     },
     "output_type": "display_data"
    },
    {
     "name": "stdout",
     "output_type": "stream",
     "text": [
      "Metrics: 0.4968684759916493 0.49166666666666664\n"
     ]
    },
    {
     "name": "stderr",
     "output_type": "stream",
     "text": [
      "C:\\Users\\CD86~1\\AppData\\Local\\Temp/ipykernel_16288/1588220021.py:33: RuntimeWarning: overflow encountered in exp\n",
      "  return 1/(1+np.exp(-pol))\n",
      "C:\\Users\\CD86~1\\AppData\\Local\\Temp/ipykernel_16288/1588220021.py:33: RuntimeWarning: overflow encountered in exp\n",
      "  return 1/(1+np.exp(-pol))\n"
     ]
    },
    {
     "data": {
      "image/png": "[encoded data removed]",
      "text/plain": [
       "<Figure size 432x288 with 1 Axes>"
      ]
     },
     "metadata": {
      "needs_background": "light"
     },
     "output_type": "display_data"
    }
   ],
   "source": [
    "## your code\n",
    "convergence_history=[]\n",
    "eta_list = [0.0001, 0.001,0.01, 0.1, 1.0]\n",
    "for eta_i in eta_list:\n",
    "    print('Eta:', eta_i)\n",
    "    lr_clf = CustomLogisticRegression(eta=eta_i,max_iter=10000, tol=1e-4)\n",
    "    train_acc, test_acc = fit_evaluate(lr_clf, X_train, y_train, X_test, y_test)\n",
    "    convergence_history.append(lr_clf.convergence)\n",
    "    print('Metrics:',train_acc, test_acc)\n",
    "y = np.array(convergence_history)\n",
    "x = np.array(eta_list)\n",
    "# plotting\n",
    "plt.title(\"Convergence history\")\n",
    "plt.xlabel(\"Eta\")\n",
    "plt.ylabel(\"Number of Iteration\")\n",
    "plt.plot(x, y, color =\"red\")\n",
    "plt.show()"
   ]
  },
  {
   "cell_type": "markdown",
   "metadata": {},
   "source": [
    "< your thoughts >"
   ]
  },
  {
   "cell_type": "markdown",
   "metadata": {},
   "source": [
    "**(0.5 points)** Try different regularization parameter values and compare the model quality."
   ]
  },
  {
   "cell_type": "code",
   "execution_count": 100,
   "metadata": {},
   "outputs": [],
   "source": [
    "## your code"
   ]
  },
  {
   "cell_type": "markdown",
   "metadata": {},
   "source": [
    "< your thoughts >"
   ]
  },
  {
   "cell_type": "markdown",
   "metadata": {},
   "source": [
    "**(0.5 points)** Compare zero initialization and random initialization. "
   ]
  },
  {
   "cell_type": "code",
   "execution_count": 31,
   "metadata": {},
   "outputs": [
    {
     "ename": "TypeError",
     "evalue": "__init__() got an unexpected keyword argument 'zero_init'",
     "output_type": "error",
     "traceback": [
      "\u001b[1;31m---------------------------------------------------------------------------\u001b[0m",
      "\u001b[1;31mTypeError\u001b[0m                                 Traceback (most recent call last)",
      "\u001b[1;32mC:\\Users\\CD86~1\\AppData\\Local\\Temp/ipykernel_16288/2425498758.py\u001b[0m in \u001b[0;36m<module>\u001b[1;34m\u001b[0m\n\u001b[0;32m      1\u001b[0m \u001b[1;31m## your code\u001b[0m\u001b[1;33m\u001b[0m\u001b[1;33m\u001b[0m\u001b[0m\n\u001b[1;32m----> 2\u001b[1;33m \u001b[0mlr_clf\u001b[0m \u001b[1;33m=\u001b[0m \u001b[0mLogisticRegression\u001b[0m\u001b[1;33m(\u001b[0m\u001b[0mzero_init\u001b[0m\u001b[1;33m=\u001b[0m\u001b[1;32mTrue\u001b[0m\u001b[1;33m)\u001b[0m\u001b[1;33m\u001b[0m\u001b[1;33m\u001b[0m\u001b[0m\n\u001b[0m\u001b[0;32m      3\u001b[0m \u001b[0mtrain_acc\u001b[0m\u001b[1;33m,\u001b[0m \u001b[0mtest_acc\u001b[0m \u001b[1;33m=\u001b[0m \u001b[0mfit_evaluate\u001b[0m\u001b[1;33m(\u001b[0m\u001b[0mlr_clf\u001b[0m\u001b[1;33m,\u001b[0m \u001b[0mX_train\u001b[0m\u001b[1;33m,\u001b[0m \u001b[0my_train\u001b[0m\u001b[1;33m,\u001b[0m \u001b[0mX_test\u001b[0m\u001b[1;33m,\u001b[0m \u001b[0my_test\u001b[0m\u001b[1;33m)\u001b[0m\u001b[1;33m\u001b[0m\u001b[1;33m\u001b[0m\u001b[0m\n\u001b[0;32m      4\u001b[0m \u001b[0mtrain_acc\u001b[0m\u001b[1;33m,\u001b[0m \u001b[0mtest_acc\u001b[0m\u001b[1;33m\u001b[0m\u001b[1;33m\u001b[0m\u001b[0m\n\u001b[0;32m      5\u001b[0m \u001b[1;33m\u001b[0m\u001b[0m\n",
      "\u001b[1;32mC:\\ProgramData\\Anaconda3\\lib\\site-packages\\sklearn\\utils\\validation.py\u001b[0m in \u001b[0;36minner_f\u001b[1;34m(*args, **kwargs)\u001b[0m\n\u001b[0;32m     61\u001b[0m             \u001b[0mextra_args\u001b[0m \u001b[1;33m=\u001b[0m \u001b[0mlen\u001b[0m\u001b[1;33m(\u001b[0m\u001b[0margs\u001b[0m\u001b[1;33m)\u001b[0m \u001b[1;33m-\u001b[0m \u001b[0mlen\u001b[0m\u001b[1;33m(\u001b[0m\u001b[0mall_args\u001b[0m\u001b[1;33m)\u001b[0m\u001b[1;33m\u001b[0m\u001b[1;33m\u001b[0m\u001b[0m\n\u001b[0;32m     62\u001b[0m             \u001b[1;32mif\u001b[0m \u001b[0mextra_args\u001b[0m \u001b[1;33m<=\u001b[0m \u001b[1;36m0\u001b[0m\u001b[1;33m:\u001b[0m\u001b[1;33m\u001b[0m\u001b[1;33m\u001b[0m\u001b[0m\n\u001b[1;32m---> 63\u001b[1;33m                 \u001b[1;32mreturn\u001b[0m \u001b[0mf\u001b[0m\u001b[1;33m(\u001b[0m\u001b[1;33m*\u001b[0m\u001b[0margs\u001b[0m\u001b[1;33m,\u001b[0m \u001b[1;33m**\u001b[0m\u001b[0mkwargs\u001b[0m\u001b[1;33m)\u001b[0m\u001b[1;33m\u001b[0m\u001b[1;33m\u001b[0m\u001b[0m\n\u001b[0m\u001b[0;32m     64\u001b[0m \u001b[1;33m\u001b[0m\u001b[0m\n\u001b[0;32m     65\u001b[0m             \u001b[1;31m# extra_args > 0\u001b[0m\u001b[1;33m\u001b[0m\u001b[1;33m\u001b[0m\u001b[0m\n",
      "\u001b[1;31mTypeError\u001b[0m: __init__() got an unexpected keyword argument 'zero_init'"
     ]
    }
   ],
   "source": [
    "## your code\n",
    "lr_clf = CustomLogisticRegression(zero_init=True)\n",
    "train_acc, test_acc = fit_evaluate(lr_clf, X_train, y_train, X_test, y_test)\n",
    "train_acc, test_acc\n",
    "\n",
    "lr_clf = CustomLogisticRegression()\n",
    "train_acc, test_acc = fit_evaluate(lr_clf, X_train, y_train, X_test, y_test)\n",
    "train_acc, test_acc"
   ]
  },
  {
   "cell_type": "markdown",
   "metadata": {},
   "source": [
    "< your thoughts >"
   ]
  },
  {
   "cell_type": "markdown",
   "metadata": {},
   "source": [
    "## Part 2: Implementing KNN Classifier"
   ]
  },
  {
   "cell_type": "markdown",
   "metadata": {},
   "source": [
    "In this task you need to implement weighted K-Neighbors Classifier."
   ]
  },
  {
   "cell_type": "markdown",
   "metadata": {},
   "source": [
    "Recall that training a KNN classifier is simply memorizing a training sample. \n",
    "\n",
    "The process of applying a classifier for one object is to find the distances from it to all objects in the training data, then select the k nearest objects (neighbors) and return the most common class among these objects."
   ]
  },
  {
   "cell_type": "markdown",
   "metadata": {},
   "source": [
    "You can also give the nearest neighbors weights in accordance with the distance of the object to them. In the simplest case (as in your assignment), you can set the weights inversely proportional to that distance. \n",
    "\n",
    "$$w_{i} = \\frac{1}{d_{i} + eps},$$\n",
    "\n",
    "where $d_{i}$ is the distance between object and i-th nearest neighbor and $eps$ is the small value to prevent division by zero.\n",
    "\n",
    "In case of 'uniform' weights, all k nearest neighbors are equivalent (have equal weight, for example $w_{i} = 1, \\forall i \\in(1,k)$)."
   ]
  },
  {
   "cell_type": "markdown",
   "metadata": {},
   "source": [
    "To predict the probability of classes, it is necessary to normalize the weights of each class, dividing them by the sum:\n",
    "\n",
    "$$p_{i} = \\frac{w_{i}}{\\sum_{j=1}^{c}w_{j}},$$\n",
    "\n",
    "where $p_i$ is probability of i-th class and $c$ is the number of classes."
   ]
  },
  {
   "cell_type": "markdown",
   "metadata": {},
   "source": [
    "**(2 points)** Implement the algorithm and use it to classify the digits. By implementing this algorithm, you will be able to classify numbers not only into \"even\" or \"odd\", but into their real representation."
   ]
  },
  {
   "cell_type": "code",
   "execution_count": 149,
   "metadata": {},
   "outputs": [],
   "source": [
    "class CustomKNeighborsClassifier:\n",
    "    _estimator_type = \"classifier\"\n",
    "    \n",
    "    def __init__(self, n_neighbors=5, weights='uniform', eps=1e-9):\n",
    "        \"\"\"K-Nearest Neighbors classifier.\n",
    "        \n",
    "        Args:\n",
    "            n_neighbors: int, default=5\n",
    "                Number of neighbors to use by default for :meth:`kneighbors` queries.\n",
    "            weights : {'uniform', 'distance'} or callable, default='uniform'\n",
    "                Weight function used in prediction.  Possible values:\n",
    "                - 'uniform' : uniform weights.  All points in each neighborhood\n",
    "                  are weighted equally.\n",
    "                - 'distance' : weight points by the inverse of their distance.\n",
    "                  in this case, closer neighbors of a query point will have a\n",
    "                  greater influence than neighbors which are further away.\n",
    "            eps : float, default=1e-5\n",
    "                Epsilon to prevent division by 0 \n",
    "        \"\"\"\n",
    "        self.n_neighbors = n_neighbors\n",
    "        self.weights = weights\n",
    "        self.eps = eps\n",
    "        \n",
    "    \n",
    "    def get_pairwise_distances(self, X, Y):\n",
    "        \"\"\"\n",
    "        Returnes matrix of the pairwise distances between the rows from both X and Y.\n",
    "        Args:\n",
    "            X: numpy array of shape (n_samples, n_features)\n",
    "            Y: numpy array of shape (k_samples, n_features)\n",
    "        Returns:\n",
    "            P: numpy array of shape (n_samples, k_samples)\n",
    "                Matrix in which (i, j) value is the distance \n",
    "                between i'th row from the X and j'th row from the Y.\n",
    "        \"\"\"\n",
    "        # <your code>\n",
    "        return (-2 * X@Y.T + np.sum(Y**2,axis=1) + np.sum(X**2,axis=1)[:, np.newaxis])**.5\n",
    "    \n",
    "    \n",
    "    def get_class_weights(self, y, weights):\n",
    "        \"\"\"\n",
    "        Returns a vector with sum of weights for each class \n",
    "        Args:\n",
    "            y: numpy array of shape (n_samles,)\n",
    "            weights: numpy array of shape (n_samples,)\n",
    "                The weights of the corresponding points of y.\n",
    "        Returns:\n",
    "            p: numpy array of shape (n_classes)\n",
    "                Array where the value at the i-th position \n",
    "                corresponds to the weight of the i-th class.\n",
    "        \"\"\"\n",
    "        # <your code>               \n",
    "        return np.array([sum(weights[np.where(y == cla)]) for cla in self.classes_]) \n",
    "            \n",
    "        \n",
    "    def fit(self, X, y):\n",
    "        \"\"\"Fit the model.\n",
    "        \n",
    "        Args:\n",
    "            X: numpy array of shape (n_samples, n_features)\n",
    "            y: numpy array of shape (n_samples,)\n",
    "                Target vector.        \n",
    "        \"\"\"\n",
    "        self.points = X\n",
    "        self.y = y\n",
    "        #print(self.y)\n",
    "        self.classes_ = np.unique(y)\n",
    "        #print( self.classes_)\n",
    "        \n",
    "        \n",
    "    def predict_proba(self, X):\n",
    "        \"\"\"Predict positive class probabilities.\n",
    "        \n",
    "        Args:\n",
    "            X: numpy array of shape (n_samples, n_features)\n",
    "        Returns:\n",
    "            y: numpy array of shape (n_samples, n_classes)\n",
    "                Vector containing positive class probabilities.\n",
    "        \"\"\"\n",
    "        if hasattr(self, 'points'):\n",
    "            #print(self.points)\n",
    "            P = self.get_pairwise_distances(X, self.points)\n",
    "            #print(P.shape)\n",
    "            #print(self.y.shape)\n",
    "            weights_of_points = np.ones(P.shape)\n",
    "            #print(weights_of_points.shape)\n",
    "            \n",
    "            #print(self.get_class_weights(self.y, self.weights))\n",
    "            if self.weights == 'distance':\n",
    "                weights_of_points =np.zeros(P.shape) \n",
    "                \n",
    "                loop=np.array( [uuu.argsort()[:self.n_neighbors]  for uuu in P])\n",
    "                #print(loop)\n",
    "                for uuuu in range(len(weights_of_points)):\n",
    "                    for ppoo in loop[uuuu]:\n",
    "                        weights_of_points[uuuu][ppoo]=1/(P[uuuu][ppoo]+self.eps)\n",
    "                \n",
    "            #print(weights_of_points)    \n",
    "            #print(weights_of_points.shape)\n",
    "            \n",
    "            lol=np.array([self.get_class_weights(self.y, bu)/sum(self.get_class_weights(self.y, bu)) for bu in weights_of_points])\n",
    "            #print(lol.sum())\n",
    "            #print(lol[0])\n",
    "            #bum=np.array([ for lo in lol])\n",
    "            #print(lol.shape)\n",
    "            #weights_of_points*self.y\n",
    "            # <your code>\n",
    "            return lol\n",
    "        \n",
    "        else: \n",
    "            raise NotFittedError(\"CustomKNeighborsClassifier instance is not fitted yet\")\n",
    "            \n",
    "        \n",
    "    def predict(self, X):\n",
    "        \"\"\"Predict classes.\n",
    "        \n",
    "        Args:\n",
    "            X: numpy array of shape (n_samples, n_features)\n",
    "        Returns:\n",
    "            y: numpy array of shape (n_samples,)\n",
    "                Vector containing predicted class labels.\n",
    "        \"\"\"\n",
    "        # <your code>\n",
    "        self.predict_proba(X)\n",
    "        return np.array([np.argmax(pre) for pre in self.predict_proba(X)])\n",
    "        #return np.argmax(self.predict_proba(X))"
   ]
  },
  {
   "cell_type": "code",
   "execution_count": 138,
   "metadata": {},
   "outputs": [],
   "source": [
    "model = CustomKNeighborsClassifier(n_neighbors=5, weights='distance')\n",
    "knn = KNeighborsClassifier(n_neighbors=5, weights='distance')"
   ]
  },
  {
   "cell_type": "code",
   "execution_count": 139,
   "metadata": {},
   "outputs": [],
   "source": [
    "assert np.allclose(model.get_pairwise_distances(np.array([[0  , 1]  , [1, 1]]), \n",
    "                                                np.array([[0.5, 0.5], [1, 0]])),\n",
    "                   np.array([[0.70710678, 1.41421356],\n",
    "                             [0.70710678, 1.        ]]))"
   ]
  },
  {
   "cell_type": "code",
   "execution_count": 140,
   "metadata": {},
   "outputs": [],
   "source": [
    "model.classes_ = ['one', 'two', 'three']\n",
    "assert np.allclose(model.get_class_weights(np.array(['one', 'one', 'three', 'two']), np.array([1, 1, 0, 4])), \n",
    "                   np.array([2,4,0]))"
   ]
  },
  {
   "cell_type": "code",
   "execution_count": 141,
   "metadata": {},
   "outputs": [
    {
     "data": {
      "image/png": "[encoded data removed]",
      "text/plain": [
       "<Figure size 720x360 with 21 Axes>"
      ]
     },
     "metadata": {
      "needs_background": "light"
     },
     "output_type": "display_data"
    }
   ],
   "source": [
    "X, y = datasets.load_digits(n_class=10, return_X_y=True)\n",
    "\n",
    "_, axes = plt.subplots(nrows=3, ncols=7, figsize=(10, 5))\n",
    "for ax, image, label in zip(axes.flatten(), X, y):\n",
    "    ax.set_axis_off()\n",
    "    ax.imshow(image.reshape((8, 8)), cmap=plt.cm.gray_r if label % 2 else plt.cm.afmhot_r)\n",
    "    ax.set_title(label)\n",
    "\n",
    "X_train, X_test, y_train, y_test = train_test_split(X, y, test_size=0.2, shuffle=True, random_state=42)"
   ]
  },
  {
   "cell_type": "code",
   "execution_count": 142,
   "metadata": {},
   "outputs": [],
   "source": [
    "model.fit(X_train, y_train)\n",
    "knn.fit(X_train, list(map(str, y_train)));"
   ]
  },
  {
   "cell_type": "code",
   "execution_count": 143,
   "metadata": {
    "scrolled": false
   },
   "outputs": [],
   "source": [
    "assert np.allclose(model.predict_proba(X_test), knn.predict_proba(X_test))"
   ]
  },
  {
   "cell_type": "code",
   "execution_count": 144,
   "metadata": {},
   "outputs": [
    {
     "data": {
      "image/png": "[encoded data removed]",
      "text/plain": [
       "<Figure size 432x288 with 2 Axes>"
      ]
     },
     "metadata": {
      "needs_background": "light"
     },
     "output_type": "display_data"
    }
   ],
   "source": [
    "train_acc, test_acc = fit_evaluate(model, X_train, y_train, X_test, y_test)"
   ]
  },
  {
   "cell_type": "code",
   "execution_count": 145,
   "metadata": {},
   "outputs": [],
   "source": [
    "assert train_acc == 1\n",
    "assert test_acc > 0.98"
   ]
  },
  {
   "cell_type": "markdown",
   "metadata": {},
   "source": [
    "**(0.5 points)** Take a look at the confusion matrix and tell what numbers the model confuses and why this happens."
   ]
  },
  {
   "cell_type": "markdown",
   "metadata": {},
   "source": [
    "< your thoughts >"
   ]
  },
  {
   "cell_type": "markdown",
   "metadata": {},
   "source": [
    "**(0.5 points)** Try different n_neighbors parameters and compare the output probabilities of the model."
   ]
  },
  {
   "cell_type": "code",
   "execution_count": 146,
   "metadata": {
    "scrolled": false
   },
   "outputs": [
    {
     "name": "stdout",
     "output_type": "stream",
     "text": [
      "N_neighbors: 1\n"
     ]
    },
    {
     "data": {
      "image/png": "[encoded data removed]",
      "text/plain": [
       "<Figure size 432x288 with 2 Axes>"
      ]
     },
     "metadata": {
      "needs_background": "light"
     },
     "output_type": "display_data"
    },
    {
     "name": "stdout",
     "output_type": "stream",
     "text": [
      "Metrics: 1.0 0.9777777777777777\n",
      "N_neighbors: 2\n"
     ]
    },
    {
     "data": {
      "image/png": "[encoded data removed]",
      "text/plain": [
       "<Figure size 432x288 with 2 Axes>"
      ]
     },
     "metadata": {
      "needs_background": "light"
     },
     "output_type": "display_data"
    },
    {
     "name": "stdout",
     "output_type": "stream",
     "text": [
      "Metrics: 1.0 0.9777777777777777\n",
      "N_neighbors: 3\n"
     ]
    },
    {
     "data": {
      "image/png": "[encoded data removed]",
      "text/plain": [
       "<Figure size 432x288 with 2 Axes>"
      ]
     },
     "metadata": {
      "needs_background": "light"
     },
     "output_type": "display_data"
    },
    {
     "name": "stdout",
     "output_type": "stream",
     "text": [
      "Metrics: 1.0 0.9833333333333333\n",
      "N_neighbors: 5\n"
     ]
    },
    {
     "data": {
      "image/png": "[encoded data removed]",
      "text/plain": [
       "<Figure size 432x288 with 2 Axes>"
      ]
     },
     "metadata": {
      "needs_background": "light"
     },
     "output_type": "display_data"
    },
    {
     "name": "stdout",
     "output_type": "stream",
     "text": [
      "Metrics: 1.0 0.9861111111111112\n",
      "N_neighbors: 10\n"
     ]
    },
    {
     "data": {
      "image/png": "[encoded data removed]",
      "text/plain": [
       "<Figure size 432x288 with 2 Axes>"
      ]
     },
     "metadata": {
      "needs_background": "light"
     },
     "output_type": "display_data"
    },
    {
     "name": "stdout",
     "output_type": "stream",
     "text": [
      "Metrics: 1.0 0.9805555555555555\n",
      "N_neighbors: 30\n"
     ]
    },
    {
     "data": {
      "image/png": "[encoded data removed]",
      "text/plain": [
       "<Figure size 432x288 with 2 Axes>"
      ]
     },
     "metadata": {
      "needs_background": "light"
     },
     "output_type": "display_data"
    },
    {
     "name": "stdout",
     "output_type": "stream",
     "text": [
      "Metrics: 1.0 0.975\n",
      "N_neighbors: 100\n"
     ]
    },
    {
     "data": {
      "image/png": "[encoded data removed]",
      "text/plain": [
       "<Figure size 432x288 with 2 Axes>"
      ]
     },
     "metadata": {
      "needs_background": "light"
     },
     "output_type": "display_data"
    },
    {
     "name": "stdout",
     "output_type": "stream",
     "text": [
      "Metrics: 1.0 0.9416666666666667\n"
     ]
    },
    {
     "data": {
      "image/png": "[encoded data removed]",
      "text/plain": [
       "<Figure size 432x288 with 1 Axes>"
      ]
     },
     "metadata": {
      "needs_background": "light"
     },
     "output_type": "display_data"
    }
   ],
   "source": [
    "## your code\n",
    "\n",
    "## your code\n",
    "metric_history_test=[]\n",
    "metric_history_train=[]\n",
    "n_neighbors_list = [1, 2, 3, 5, 10, 30, 100]\n",
    "for n_neighbors in n_neighbors_list:\n",
    "    print('N_neighbors:', n_neighbors)\n",
    "    lr_clf = CustomKNeighborsClassifier(n_neighbors=n_neighbors, weights='distance')\n",
    "    train_acc, test_acc = fit_evaluate(lr_clf, X_train, y_train, X_test, y_test)\n",
    "    metric_history_test.append(test_acc)\n",
    "    metric_history_train.append(train_acc)\n",
    "    print('Metrics:',train_acc, test_acc)\n",
    "y = np.array(metric_history_test)\n",
    "z = np.array(metric_history_train)\n",
    "x = np.array(n_neighbors_list)\n",
    "# plotting\n",
    "plt.title(\"Convergence history\")\n",
    "plt.xlabel(\"Eta\")\n",
    "plt.ylabel(\"Number of Iteration\")\n",
    "plt.plot(x, y, color =\"red\")\n",
    "plt.plot(x, z, color =\"green\")\n",
    "plt.show()\n",
    "\n"
   ]
  },
  {
   "cell_type": "markdown",
   "metadata": {},
   "source": [
    "< your thoughts >"
   ]
  },
  {
   "cell_type": "markdown",
   "metadata": {},
   "source": [
    "**(0.5 points)** Compare both 'uniform' and 'distance' weights and share your thoughts in what situations which parameter can be better."
   ]
  },
  {
   "cell_type": "code",
   "execution_count": 150,
   "metadata": {
    "scrolled": false
   },
   "outputs": [
    {
     "name": "stdout",
     "output_type": "stream",
     "text": [
      "[[0. 0. 0. ... 0. 0. 0.]\n",
      " [0. 0. 0. ... 0. 0. 1.]\n",
      " [0. 0. 0. ... 0. 0. 0.]\n",
      " ...\n",
      " [0. 0. 0. ... 0. 1. 0.]\n",
      " [0. 0. 0. ... 0. 0. 0.]\n",
      " [0. 0. 0. ... 0. 0. 0.]]\n",
      "[[0. 0. 0. ... 0. 0. 0.]\n",
      " [0. 0. 0. ... 0. 0. 1.]\n",
      " [0. 0. 0. ... 0. 0. 0.]\n",
      " ...\n",
      " [0. 0. 0. ... 0. 1. 0.]\n",
      " [0. 0. 0. ... 0. 0. 0.]\n",
      " [0. 0. 0. ... 0. 0. 0.]]\n"
     ]
    },
    {
     "data": {
      "image/png": "[encoded data removed]",
      "text/plain": [
       "<Figure size 432x288 with 2 Axes>"
      ]
     },
     "metadata": {
      "needs_background": "light"
     },
     "output_type": "display_data"
    },
    {
     "name": "stdout",
     "output_type": "stream",
     "text": [
      "[[0. 0. 0. ... 0. 0. 0.]\n",
      " [1. 0. 0. ... 0. 0. 0.]\n",
      " [1. 0. 0. ... 0. 0. 0.]\n",
      " ...\n",
      " [0. 0. 1. ... 0. 0. 0.]\n",
      " [0. 0. 0. ... 1. 0. 0.]\n",
      " [0. 1. 0. ... 0. 0. 0.]]\n",
      "[[0. 0. 0. ... 0. 0. 0.]\n",
      " [1. 0. 0. ... 0. 0. 0.]\n",
      " [1. 0. 0. ... 0. 0. 0.]\n",
      " ...\n",
      " [0. 0. 1. ... 0. 0. 0.]\n",
      " [0. 0. 0. ... 1. 0. 0.]\n",
      " [0. 1. 0. ... 0. 0. 0.]]\n",
      "[[0. 0. 0. ... 0. 0. 0.]\n",
      " [0. 0. 0. ... 0. 0. 1.]\n",
      " [0. 0. 0. ... 0. 0. 0.]\n",
      " ...\n",
      " [0. 0. 0. ... 0. 1. 0.]\n",
      " [0. 0. 0. ... 0. 0. 0.]\n",
      " [0. 0. 0. ... 0. 0. 0.]]\n",
      "[[0. 0. 0. ... 0. 0. 0.]\n",
      " [0. 0. 0. ... 0. 0. 1.]\n",
      " [0. 0. 0. ... 0. 0. 0.]\n",
      " ...\n",
      " [0. 0. 0. ... 0. 1. 0.]\n",
      " [0. 0. 0. ... 0. 0. 0.]\n",
      " [0. 0. 0. ... 0. 0. 0.]]\n",
      "Metrics: 1.0 0.9833333333333333\n",
      "[[0.10090466 0.10716771 0.10020877 ... 0.10090466 0.10020877 0.09742519]\n",
      " [0.10090466 0.10716771 0.10020877 ... 0.10090466 0.10020877 0.09742519]\n",
      " [0.10090466 0.10716771 0.10020877 ... 0.10090466 0.10020877 0.09742519]\n",
      " ...\n",
      " [0.10090466 0.10716771 0.10020877 ... 0.10090466 0.10020877 0.09742519]\n",
      " [0.10090466 0.10716771 0.10020877 ... 0.10090466 0.10020877 0.09742519]\n",
      " [0.10090466 0.10716771 0.10020877 ... 0.10090466 0.10020877 0.09742519]]\n",
      "[[0.10090466 0.10716771 0.10020877 ... 0.10090466 0.10020877 0.09742519]\n",
      " [0.10090466 0.10716771 0.10020877 ... 0.10090466 0.10020877 0.09742519]\n",
      " [0.10090466 0.10716771 0.10020877 ... 0.10090466 0.10020877 0.09742519]\n",
      " ...\n",
      " [0.10090466 0.10716771 0.10020877 ... 0.10090466 0.10020877 0.09742519]\n",
      " [0.10090466 0.10716771 0.10020877 ... 0.10090466 0.10020877 0.09742519]\n",
      " [0.10090466 0.10716771 0.10020877 ... 0.10090466 0.10020877 0.09742519]]\n"
     ]
    },
    {
     "data": {
      "image/png": "[encoded data removed]",
      "text/plain": [
       "<Figure size 432x288 with 2 Axes>"
      ]
     },
     "metadata": {
      "needs_background": "light"
     },
     "output_type": "display_data"
    },
    {
     "name": "stdout",
     "output_type": "stream",
     "text": [
      "[[0.10090466 0.10716771 0.10020877 ... 0.10090466 0.10020877 0.09742519]\n",
      " [0.10090466 0.10716771 0.10020877 ... 0.10090466 0.10020877 0.09742519]\n",
      " [0.10090466 0.10716771 0.10020877 ... 0.10090466 0.10020877 0.09742519]\n",
      " ...\n",
      " [0.10090466 0.10716771 0.10020877 ... 0.10090466 0.10020877 0.09742519]\n",
      " [0.10090466 0.10716771 0.10020877 ... 0.10090466 0.10020877 0.09742519]\n",
      " [0.10090466 0.10716771 0.10020877 ... 0.10090466 0.10020877 0.09742519]]\n",
      "[[0.10090466 0.10716771 0.10020877 ... 0.10090466 0.10020877 0.09742519]\n",
      " [0.10090466 0.10716771 0.10020877 ... 0.10090466 0.10020877 0.09742519]\n",
      " [0.10090466 0.10716771 0.10020877 ... 0.10090466 0.10020877 0.09742519]\n",
      " ...\n",
      " [0.10090466 0.10716771 0.10020877 ... 0.10090466 0.10020877 0.09742519]\n",
      " [0.10090466 0.10716771 0.10020877 ... 0.10090466 0.10020877 0.09742519]\n",
      " [0.10090466 0.10716771 0.10020877 ... 0.10090466 0.10020877 0.09742519]]\n",
      "[[0.10090466 0.10716771 0.10020877 ... 0.10090466 0.10020877 0.09742519]\n",
      " [0.10090466 0.10716771 0.10020877 ... 0.10090466 0.10020877 0.09742519]\n",
      " [0.10090466 0.10716771 0.10020877 ... 0.10090466 0.10020877 0.09742519]\n",
      " ...\n",
      " [0.10090466 0.10716771 0.10020877 ... 0.10090466 0.10020877 0.09742519]\n",
      " [0.10090466 0.10716771 0.10020877 ... 0.10090466 0.10020877 0.09742519]\n",
      " [0.10090466 0.10716771 0.10020877 ... 0.10090466 0.10020877 0.09742519]]\n",
      "[[0.10090466 0.10716771 0.10020877 ... 0.10090466 0.10020877 0.09742519]\n",
      " [0.10090466 0.10716771 0.10020877 ... 0.10090466 0.10020877 0.09742519]\n",
      " [0.10090466 0.10716771 0.10020877 ... 0.10090466 0.10020877 0.09742519]\n",
      " ...\n",
      " [0.10090466 0.10716771 0.10020877 ... 0.10090466 0.10020877 0.09742519]\n",
      " [0.10090466 0.10716771 0.10020877 ... 0.10090466 0.10020877 0.09742519]\n",
      " [0.10090466 0.10716771 0.10020877 ... 0.10090466 0.10020877 0.09742519]]\n",
      "Metrics: 0.10716771050800278 0.07777777777777778\n"
     ]
    }
   ],
   "source": [
    "## your code\n",
    "model = CustomKNeighborsClassifier(n_neighbors=3, weights='distance')\n",
    "train_acc, test_acc = fit_evaluate(model, X_train, y_train, X_test, y_test)\n",
    "print('Metrics:',train_acc, test_acc)\n",
    "\n",
    "model = CustomKNeighborsClassifier(n_neighbors=3, weights='uniform')\n",
    "train_acc, test_acc = fit_evaluate(model, X_train, y_train, X_test, y_test)\n",
    "print('Metrics:',train_acc, test_acc)"
   ]
  },
  {
   "cell_type": "markdown",
   "metadata": {},
   "source": [
    "< your thoughts >"
   ]
  },
  {
   "cell_type": "markdown",
   "metadata": {},
   "source": [
    "**(0.5 points)** Suggest another distance measurement function that could improve the quality of the classification for this task. "
   ]
  },
  {
   "cell_type": "markdown",
   "metadata": {},
   "source": [
    "< your thoughts >"
   ]
  },
  {
   "cell_type": "markdown",
   "metadata": {},
   "source": [
    "**(0.5 points)** Suggest different task and distance function that you think would be suitable for it."
   ]
  },
  {
   "cell_type": "markdown",
   "metadata": {},
   "source": [
    "< your thoughts >"
   ]
  },
  {
   "cell_type": "markdown",
   "metadata": {},
   "source": [
    "## Part 3: Synthetic Titanic Survival Prediction"
   ]
  },
  {
   "cell_type": "markdown",
   "metadata": {},
   "source": [
    "### Dataset\n",
    "\n",
    "Read the description here: https://www.kaggle.com/c/tabular-playground-series-apr-2021/data. Download the dataset and place it in the *data/titanic/* folder in your working directory.\n",
    "You will use train.csv for model training and validation. The test set is used for model testing: once the model is trained, you can predict whether a passenger survived or not for each passenger in the test set, and submit the predictions: https://www.kaggle.com/c/tabular-playground-series-apr-2021/overview/evaluation.  \n"
   ]
  },
  {
   "cell_type": "code",
   "execution_count": 113,
   "metadata": {},
   "outputs": [],
   "source": [
    "PATH = \"./data/\""
   ]
  },
  {
   "cell_type": "code",
   "execution_count": 114,
   "metadata": {},
   "outputs": [
    {
     "ename": "FileNotFoundError",
     "evalue": "[Errno 2] No such file or directory: './data/titanic\\\\train.csv'",
     "output_type": "error",
     "traceback": [
      "\u001b[1;31m---------------------------------------------------------------------------\u001b[0m",
      "\u001b[1;31mFileNotFoundError\u001b[0m                         Traceback (most recent call last)",
      "\u001b[1;32mC:\\Users\\CD86~1\\AppData\\Local\\Temp/ipykernel_5580/1216342710.py\u001b[0m in \u001b[0;36m<module>\u001b[1;34m\u001b[0m\n\u001b[1;32m----> 1\u001b[1;33m \u001b[0mdata\u001b[0m \u001b[1;33m=\u001b[0m \u001b[0mpd\u001b[0m\u001b[1;33m.\u001b[0m\u001b[0mread_csv\u001b[0m\u001b[1;33m(\u001b[0m\u001b[0mos\u001b[0m\u001b[1;33m.\u001b[0m\u001b[0mpath\u001b[0m\u001b[1;33m.\u001b[0m\u001b[0mjoin\u001b[0m\u001b[1;33m(\u001b[0m\u001b[0mPATH\u001b[0m\u001b[1;33m,\u001b[0m \u001b[1;34m'titanic'\u001b[0m\u001b[1;33m,\u001b[0m \u001b[1;34m'train.csv'\u001b[0m\u001b[1;33m)\u001b[0m\u001b[1;33m)\u001b[0m\u001b[1;33m.\u001b[0m\u001b[0mset_index\u001b[0m\u001b[1;33m(\u001b[0m\u001b[1;34m'PassengerId'\u001b[0m\u001b[1;33m)\u001b[0m\u001b[1;33m\u001b[0m\u001b[1;33m\u001b[0m\u001b[0m\n\u001b[0m",
      "\u001b[1;32mC:\\ProgramData\\Anaconda3\\lib\\site-packages\\pandas\\util\\_decorators.py\u001b[0m in \u001b[0;36mwrapper\u001b[1;34m(*args, **kwargs)\u001b[0m\n\u001b[0;32m    309\u001b[0m                     \u001b[0mstacklevel\u001b[0m\u001b[1;33m=\u001b[0m\u001b[0mstacklevel\u001b[0m\u001b[1;33m,\u001b[0m\u001b[1;33m\u001b[0m\u001b[1;33m\u001b[0m\u001b[0m\n\u001b[0;32m    310\u001b[0m                 )\n\u001b[1;32m--> 311\u001b[1;33m             \u001b[1;32mreturn\u001b[0m \u001b[0mfunc\u001b[0m\u001b[1;33m(\u001b[0m\u001b[1;33m*\u001b[0m\u001b[0margs\u001b[0m\u001b[1;33m,\u001b[0m \u001b[1;33m**\u001b[0m\u001b[0mkwargs\u001b[0m\u001b[1;33m)\u001b[0m\u001b[1;33m\u001b[0m\u001b[1;33m\u001b[0m\u001b[0m\n\u001b[0m\u001b[0;32m    312\u001b[0m \u001b[1;33m\u001b[0m\u001b[0m\n\u001b[0;32m    313\u001b[0m         \u001b[1;32mreturn\u001b[0m \u001b[0mwrapper\u001b[0m\u001b[1;33m\u001b[0m\u001b[1;33m\u001b[0m\u001b[0m\n",
      "\u001b[1;32mC:\\ProgramData\\Anaconda3\\lib\\site-packages\\pandas\\io\\parsers\\readers.py\u001b[0m in \u001b[0;36mread_csv\u001b[1;34m(filepath_or_buffer, sep, delimiter, header, names, index_col, usecols, squeeze, prefix, mangle_dupe_cols, dtype, engine, converters, true_values, false_values, skipinitialspace, skiprows, skipfooter, nrows, na_values, keep_default_na, na_filter, verbose, skip_blank_lines, parse_dates, infer_datetime_format, keep_date_col, date_parser, dayfirst, cache_dates, iterator, chunksize, compression, thousands, decimal, lineterminator, quotechar, quoting, doublequote, escapechar, comment, encoding, encoding_errors, dialect, error_bad_lines, warn_bad_lines, on_bad_lines, delim_whitespace, low_memory, memory_map, float_precision, storage_options)\u001b[0m\n\u001b[0;32m    584\u001b[0m     \u001b[0mkwds\u001b[0m\u001b[1;33m.\u001b[0m\u001b[0mupdate\u001b[0m\u001b[1;33m(\u001b[0m\u001b[0mkwds_defaults\u001b[0m\u001b[1;33m)\u001b[0m\u001b[1;33m\u001b[0m\u001b[1;33m\u001b[0m\u001b[0m\n\u001b[0;32m    585\u001b[0m \u001b[1;33m\u001b[0m\u001b[0m\n\u001b[1;32m--> 586\u001b[1;33m     \u001b[1;32mreturn\u001b[0m \u001b[0m_read\u001b[0m\u001b[1;33m(\u001b[0m\u001b[0mfilepath_or_buffer\u001b[0m\u001b[1;33m,\u001b[0m \u001b[0mkwds\u001b[0m\u001b[1;33m)\u001b[0m\u001b[1;33m\u001b[0m\u001b[1;33m\u001b[0m\u001b[0m\n\u001b[0m\u001b[0;32m    587\u001b[0m \u001b[1;33m\u001b[0m\u001b[0m\n\u001b[0;32m    588\u001b[0m \u001b[1;33m\u001b[0m\u001b[0m\n",
      "\u001b[1;32mC:\\ProgramData\\Anaconda3\\lib\\site-packages\\pandas\\io\\parsers\\readers.py\u001b[0m in \u001b[0;36m_read\u001b[1;34m(filepath_or_buffer, kwds)\u001b[0m\n\u001b[0;32m    480\u001b[0m \u001b[1;33m\u001b[0m\u001b[0m\n\u001b[0;32m    481\u001b[0m     \u001b[1;31m# Create the parser.\u001b[0m\u001b[1;33m\u001b[0m\u001b[1;33m\u001b[0m\u001b[0m\n\u001b[1;32m--> 482\u001b[1;33m     \u001b[0mparser\u001b[0m \u001b[1;33m=\u001b[0m \u001b[0mTextFileReader\u001b[0m\u001b[1;33m(\u001b[0m\u001b[0mfilepath_or_buffer\u001b[0m\u001b[1;33m,\u001b[0m \u001b[1;33m**\u001b[0m\u001b[0mkwds\u001b[0m\u001b[1;33m)\u001b[0m\u001b[1;33m\u001b[0m\u001b[1;33m\u001b[0m\u001b[0m\n\u001b[0m\u001b[0;32m    483\u001b[0m \u001b[1;33m\u001b[0m\u001b[0m\n\u001b[0;32m    484\u001b[0m     \u001b[1;32mif\u001b[0m \u001b[0mchunksize\u001b[0m \u001b[1;32mor\u001b[0m \u001b[0miterator\u001b[0m\u001b[1;33m:\u001b[0m\u001b[1;33m\u001b[0m\u001b[1;33m\u001b[0m\u001b[0m\n",
      "\u001b[1;32mC:\\ProgramData\\Anaconda3\\lib\\site-packages\\pandas\\io\\parsers\\readers.py\u001b[0m in \u001b[0;36m__init__\u001b[1;34m(self, f, engine, **kwds)\u001b[0m\n\u001b[0;32m    809\u001b[0m             \u001b[0mself\u001b[0m\u001b[1;33m.\u001b[0m\u001b[0moptions\u001b[0m\u001b[1;33m[\u001b[0m\u001b[1;34m\"has_index_names\"\u001b[0m\u001b[1;33m]\u001b[0m \u001b[1;33m=\u001b[0m \u001b[0mkwds\u001b[0m\u001b[1;33m[\u001b[0m\u001b[1;34m\"has_index_names\"\u001b[0m\u001b[1;33m]\u001b[0m\u001b[1;33m\u001b[0m\u001b[1;33m\u001b[0m\u001b[0m\n\u001b[0;32m    810\u001b[0m \u001b[1;33m\u001b[0m\u001b[0m\n\u001b[1;32m--> 811\u001b[1;33m         \u001b[0mself\u001b[0m\u001b[1;33m.\u001b[0m\u001b[0m_engine\u001b[0m \u001b[1;33m=\u001b[0m \u001b[0mself\u001b[0m\u001b[1;33m.\u001b[0m\u001b[0m_make_engine\u001b[0m\u001b[1;33m(\u001b[0m\u001b[0mself\u001b[0m\u001b[1;33m.\u001b[0m\u001b[0mengine\u001b[0m\u001b[1;33m)\u001b[0m\u001b[1;33m\u001b[0m\u001b[1;33m\u001b[0m\u001b[0m\n\u001b[0m\u001b[0;32m    812\u001b[0m \u001b[1;33m\u001b[0m\u001b[0m\n\u001b[0;32m    813\u001b[0m     \u001b[1;32mdef\u001b[0m \u001b[0mclose\u001b[0m\u001b[1;33m(\u001b[0m\u001b[0mself\u001b[0m\u001b[1;33m)\u001b[0m\u001b[1;33m:\u001b[0m\u001b[1;33m\u001b[0m\u001b[1;33m\u001b[0m\u001b[0m\n",
      "\u001b[1;32mC:\\ProgramData\\Anaconda3\\lib\\site-packages\\pandas\\io\\parsers\\readers.py\u001b[0m in \u001b[0;36m_make_engine\u001b[1;34m(self, engine)\u001b[0m\n\u001b[0;32m   1038\u001b[0m             )\n\u001b[0;32m   1039\u001b[0m         \u001b[1;31m# error: Too many arguments for \"ParserBase\"\u001b[0m\u001b[1;33m\u001b[0m\u001b[1;33m\u001b[0m\u001b[0m\n\u001b[1;32m-> 1040\u001b[1;33m         \u001b[1;32mreturn\u001b[0m \u001b[0mmapping\u001b[0m\u001b[1;33m[\u001b[0m\u001b[0mengine\u001b[0m\u001b[1;33m]\u001b[0m\u001b[1;33m(\u001b[0m\u001b[0mself\u001b[0m\u001b[1;33m.\u001b[0m\u001b[0mf\u001b[0m\u001b[1;33m,\u001b[0m \u001b[1;33m**\u001b[0m\u001b[0mself\u001b[0m\u001b[1;33m.\u001b[0m\u001b[0moptions\u001b[0m\u001b[1;33m)\u001b[0m  \u001b[1;31m# type: ignore[call-arg]\u001b[0m\u001b[1;33m\u001b[0m\u001b[1;33m\u001b[0m\u001b[0m\n\u001b[0m\u001b[0;32m   1041\u001b[0m \u001b[1;33m\u001b[0m\u001b[0m\n\u001b[0;32m   1042\u001b[0m     \u001b[1;32mdef\u001b[0m \u001b[0m_failover_to_python\u001b[0m\u001b[1;33m(\u001b[0m\u001b[0mself\u001b[0m\u001b[1;33m)\u001b[0m\u001b[1;33m:\u001b[0m\u001b[1;33m\u001b[0m\u001b[1;33m\u001b[0m\u001b[0m\n",
      "\u001b[1;32mC:\\ProgramData\\Anaconda3\\lib\\site-packages\\pandas\\io\\parsers\\c_parser_wrapper.py\u001b[0m in \u001b[0;36m__init__\u001b[1;34m(self, src, **kwds)\u001b[0m\n\u001b[0;32m     49\u001b[0m \u001b[1;33m\u001b[0m\u001b[0m\n\u001b[0;32m     50\u001b[0m         \u001b[1;31m# open handles\u001b[0m\u001b[1;33m\u001b[0m\u001b[1;33m\u001b[0m\u001b[0m\n\u001b[1;32m---> 51\u001b[1;33m         \u001b[0mself\u001b[0m\u001b[1;33m.\u001b[0m\u001b[0m_open_handles\u001b[0m\u001b[1;33m(\u001b[0m\u001b[0msrc\u001b[0m\u001b[1;33m,\u001b[0m \u001b[0mkwds\u001b[0m\u001b[1;33m)\u001b[0m\u001b[1;33m\u001b[0m\u001b[1;33m\u001b[0m\u001b[0m\n\u001b[0m\u001b[0;32m     52\u001b[0m         \u001b[1;32massert\u001b[0m \u001b[0mself\u001b[0m\u001b[1;33m.\u001b[0m\u001b[0mhandles\u001b[0m \u001b[1;32mis\u001b[0m \u001b[1;32mnot\u001b[0m \u001b[1;32mNone\u001b[0m\u001b[1;33m\u001b[0m\u001b[1;33m\u001b[0m\u001b[0m\n\u001b[0;32m     53\u001b[0m \u001b[1;33m\u001b[0m\u001b[0m\n",
      "\u001b[1;32mC:\\ProgramData\\Anaconda3\\lib\\site-packages\\pandas\\io\\parsers\\base_parser.py\u001b[0m in \u001b[0;36m_open_handles\u001b[1;34m(self, src, kwds)\u001b[0m\n\u001b[0;32m    220\u001b[0m         \u001b[0mLet\u001b[0m \u001b[0mthe\u001b[0m \u001b[0mreaders\u001b[0m \u001b[0mopen\u001b[0m \u001b[0mIOHandles\u001b[0m \u001b[0mafter\u001b[0m \u001b[0mthey\u001b[0m \u001b[0mare\u001b[0m \u001b[0mdone\u001b[0m \u001b[1;32mwith\u001b[0m \u001b[0mtheir\u001b[0m \u001b[0mpotential\u001b[0m \u001b[0mraises\u001b[0m\u001b[1;33m.\u001b[0m\u001b[1;33m\u001b[0m\u001b[1;33m\u001b[0m\u001b[0m\n\u001b[0;32m    221\u001b[0m         \"\"\"\n\u001b[1;32m--> 222\u001b[1;33m         self.handles = get_handle(\n\u001b[0m\u001b[0;32m    223\u001b[0m             \u001b[0msrc\u001b[0m\u001b[1;33m,\u001b[0m\u001b[1;33m\u001b[0m\u001b[1;33m\u001b[0m\u001b[0m\n\u001b[0;32m    224\u001b[0m             \u001b[1;34m\"r\"\u001b[0m\u001b[1;33m,\u001b[0m\u001b[1;33m\u001b[0m\u001b[1;33m\u001b[0m\u001b[0m\n",
      "\u001b[1;32mC:\\ProgramData\\Anaconda3\\lib\\site-packages\\pandas\\io\\common.py\u001b[0m in \u001b[0;36mget_handle\u001b[1;34m(path_or_buf, mode, encoding, compression, memory_map, is_text, errors, storage_options)\u001b[0m\n\u001b[0;32m    700\u001b[0m         \u001b[1;32mif\u001b[0m \u001b[0mioargs\u001b[0m\u001b[1;33m.\u001b[0m\u001b[0mencoding\u001b[0m \u001b[1;32mand\u001b[0m \u001b[1;34m\"b\"\u001b[0m \u001b[1;32mnot\u001b[0m \u001b[1;32min\u001b[0m \u001b[0mioargs\u001b[0m\u001b[1;33m.\u001b[0m\u001b[0mmode\u001b[0m\u001b[1;33m:\u001b[0m\u001b[1;33m\u001b[0m\u001b[1;33m\u001b[0m\u001b[0m\n\u001b[0;32m    701\u001b[0m             \u001b[1;31m# Encoding\u001b[0m\u001b[1;33m\u001b[0m\u001b[1;33m\u001b[0m\u001b[0m\n\u001b[1;32m--> 702\u001b[1;33m             handle = open(\n\u001b[0m\u001b[0;32m    703\u001b[0m                 \u001b[0mhandle\u001b[0m\u001b[1;33m,\u001b[0m\u001b[1;33m\u001b[0m\u001b[1;33m\u001b[0m\u001b[0m\n\u001b[0;32m    704\u001b[0m                 \u001b[0mioargs\u001b[0m\u001b[1;33m.\u001b[0m\u001b[0mmode\u001b[0m\u001b[1;33m,\u001b[0m\u001b[1;33m\u001b[0m\u001b[1;33m\u001b[0m\u001b[0m\n",
      "\u001b[1;31mFileNotFoundError\u001b[0m: [Errno 2] No such file or directory: './data/titanic\\\\train.csv'"
     ]
    }
   ],
   "source": [
    "data = pd.read_csv(os.path.join(PATH, 'titanic', 'train.csv')).set_index('PassengerId')"
   ]
  },
  {
   "cell_type": "code",
   "execution_count": null,
   "metadata": {
    "scrolled": true
   },
   "outputs": [],
   "source": [
    "data.head()"
   ]
  },
  {
   "cell_type": "markdown",
   "metadata": {},
   "source": [
    "### EDA"
   ]
  },
  {
   "cell_type": "markdown",
   "metadata": {},
   "source": [
    "**(0.5 points)** How many females and males are there in the dataset? What about the survived passengers? Is there any relationship between the gender and the survival?"
   ]
  },
  {
   "cell_type": "code",
   "execution_count": null,
   "metadata": {},
   "outputs": [],
   "source": [
    "## your code"
   ]
  },
  {
   "cell_type": "markdown",
   "metadata": {},
   "source": [
    "< your thoughts >"
   ]
  },
  {
   "cell_type": "markdown",
   "metadata": {},
   "source": [
    "**(0.5 points)** Plot age distribution of the passengers. What is the average and the median age of survived and deceased passengers? Do age distributions differ for survived and deceased passengers? Why?"
   ]
  },
  {
   "cell_type": "code",
   "execution_count": null,
   "metadata": {},
   "outputs": [],
   "source": [
    "## your code"
   ]
  },
  {
   "cell_type": "markdown",
   "metadata": {},
   "source": [
    "< your thoughts >"
   ]
  },
  {
   "cell_type": "markdown",
   "metadata": {},
   "source": [
    "**(1 point)** Explore \"passenger class\" and \"embarked\" features. What class was \"the safest\"? Is there any relationship between the embarkation port and the survival? Provide the corresponding visualizations."
   ]
  },
  {
   "cell_type": "code",
   "execution_count": null,
   "metadata": {},
   "outputs": [],
   "source": [
    "## your code"
   ]
  },
  {
   "cell_type": "markdown",
   "metadata": {},
   "source": [
    "< your thoughts >"
   ]
  },
  {
   "cell_type": "markdown",
   "metadata": {},
   "source": [
    "### Modelling"
   ]
  },
  {
   "cell_type": "markdown",
   "metadata": {},
   "source": [
    "**(0.5 points)** Find the percentage of missing values for each feature. "
   ]
  },
  {
   "cell_type": "code",
   "execution_count": null,
   "metadata": {},
   "outputs": [],
   "source": [
    "## your code"
   ]
  },
  {
   "cell_type": "markdown",
   "metadata": {},
   "source": [
    "Think about the ways to handle these missing values for modelling and write your answer below. Which methods would you suggest? What are their advantages and disadvantages?\n",
    "\n",
    "< your thoughts >"
   ]
  },
  {
   "cell_type": "markdown",
   "metadata": {},
   "source": [
    "**(1.5 points)** Prepare the features and train two models (KNN and Logistic Regression) to predict the survival. Compare the results. Use accuracy as a metric. Don't forget about cross-validation!"
   ]
  },
  {
   "cell_type": "code",
   "execution_count": null,
   "metadata": {},
   "outputs": [],
   "source": [
    "## your code"
   ]
  },
  {
   "cell_type": "markdown",
   "metadata": {},
   "source": [
    "**(0.5 + X points)** Try more feature engineering and hyperparameter tuning to improve the results. You may use either KNN or Logistic Regression (or both)."
   ]
  },
  {
   "cell_type": "code",
   "execution_count": null,
   "metadata": {},
   "outputs": [],
   "source": [
    "## your code"
   ]
  },
  {
   "cell_type": "markdown",
   "metadata": {},
   "source": [
    "Select the best model, load the test set and make the predictions. Submit them to kaggle and see the results :)\n",
    "\n",
    "**Note**. X points will depend on your kaggle public leaderboard score.\n",
    "$$ f(score) = 1.0, \\ \\ 0.79 \\leq score < 0.80,$$\n",
    "$$ f(score) = 2.5, \\ \\ 0.80 \\leq score < 0.81,$$ \n",
    "$$ f(score) = 4.0, \\ \\ 0.81 \\leq score $$ \n",
    "Your code should generate the output submitted to kaggle. Fix random seeds to make the results reproducible."
   ]
  },
  {
   "cell_type": "code",
   "execution_count": null,
   "metadata": {},
   "outputs": [],
   "source": []
  }
 ],
 "metadata": {
  "kernelspec": {
   "display_name": "Python 3 (ipykernel)",
   "language": "python",
   "name": "python3"
  },
  "language_info": {
   "codemirror_mode": {
    "name": "ipython",
    "version": 3
   },
   "file_extension": ".py",
   "mimetype": "text/x-python",
   "name": "python",
   "nbconvert_exporter": "python",
   "pygments_lexer": "ipython3",
   "version": "3.9.7"
  }
 },
 "nbformat": 4,
 "nbformat_minor": 4
}
